{
 "cells": [
  {
   "cell_type": "markdown",
   "metadata": {
    "collapsed": true
   },
   "source": [
    "# Deep learning approach - CNN with chainer\n",
    "\n",
    "We train CNN (Convolutional Neural Network), which is widely used in image recognition.\n",
    "\n",
    "Also, I will explain several technics such as \"data augmentation\" and \"model ensemble\" \n",
    "to further improve the score.\n",
    "\n",
    "I achieved the score \"\" in below code.\n",
    "\n",
    "chainer is deep learning framework written in python.\n",
    "It supports dynamic graph construction (define-by-run).\n",
    "Chainer is used in research field as well, since it is quite flexible library.\n",
    "\n",
    " - https://github.com/chainer/chainer\n",
    " \n",
    " \n",
    "## Other reference for beginners\n",
    "\n",
    "If you are not familiar with deep learning/any deep learning framework, you might want to see more simple quick start kernel at first.\n",
    "Below kernel shows much more easy way to apply deep learning training, with sklearn interface.\n",
    "\n",
    " - https://www.kaggle.com/corochann/simple-deep-learning-with-chainer-by-sklearn-if\n",
    " \n",
    "If you want to learn about chainer, you can see the chainer tutorial.\n",
    " - http://corochann.com/deep-learning-tutorial-with-chainer\n",
    " - https://github.com/mitmul/chainer-handson\n",
    " \n",
    " "
   ]
  },
  {
   "cell_type": "code",
   "execution_count": 1,
   "metadata": {
    "collapsed": true
   },
   "outputs": [],
   "source": [
    "# Make sure you installed latest version of scikit-learn\n",
    "#!pip install -U scikit-learn\n",
    "\n",
    "# You may install `chaineripy` to show training progress bar nicely on jupyter notebook.\n",
    "# https://github.com/grafi-tt/chaineripy\n",
    "#!pip install chaineripy"
   ]
  },
  {
   "cell_type": "code",
   "execution_count": 2,
   "metadata": {
    "collapsed": true
   },
   "outputs": [],
   "source": [
    "# Make it False when you want to execute full training.\n",
    "# It takes a long time to train deep CNN with CPU, but much less time with GPU.\n",
    "# It is nice if you can utilize GPU, when DEBUG = False.\n",
    "DEBUG = True"
   ]
  },
  {
   "cell_type": "code",
   "execution_count": 3,
   "metadata": {
    "collapsed": false
   },
   "outputs": [
    {
     "name": "stdout",
     "output_type": "stream",
     "text": [
      "Loading data...\n",
      "train_x (42000, 784)\n",
      "train_y (42000,)\n",
      "test_x (28000, 784)\n"
     ]
    }
   ],
   "source": [
    "import os\n",
    "\n",
    "import pandas as pd\n",
    "import numpy as np\n",
    "\n",
    "# Load data\n",
    "print('Loading data...')\n",
    "DATA_DIR = '../input'\n",
    "#DATA_DIR = './input'\n",
    "train = pd.read_csv(os.path.join(DATA_DIR, 'train.csv'))\n",
    "test = pd.read_csv(os.path.join(DATA_DIR, 'test.csv'))\n",
    "\n",
    "train_x = train.iloc[:, 1:].values.astype('float32')\n",
    "train_y = train.iloc[:, 0].values.astype('int32')\n",
    "test_x = test.values.astype('float32')\n",
    "\n",
    "print('train_x', train_x.shape)\n",
    "print('train_y', train_y.shape)\n",
    "print('test_x', test_x.shape)"
   ]
  },
  {
   "cell_type": "markdown",
   "metadata": {},
   "source": [
    "Image pixel is aligned to one-dimension now,\n",
    "we need to reshape it to form image tensor.\n",
    "Each axis represents as follows,\n",
    " - 1st axis: Mini batch (42000 training imgs)\n",
    " - 2nd axis: Channel (here is 1, because this is gray scale image)\n",
    " - 3rd axis: Height (28 px for MNIST)\n",
    " - 4th axis: Width (28 px for MNIST)\n",
    " \n",
    "Also black intensity is represented by 0 - 255 in original images,\n",
    "let's rescale it to 0 - 1 so that neural network can handle the range."
   ]
  },
  {
   "cell_type": "code",
   "execution_count": 4,
   "metadata": {
    "collapsed": false
   },
   "outputs": [
    {
     "name": "stdout",
     "output_type": "stream",
     "text": [
      "train_imgs (42000, 1, 28, 28) test_imgs (28000, 1, 28, 28)\n"
     ]
    }
   ],
   "source": [
    "# reshape and rescale value\n",
    "train_imgs = train_x.reshape((-1, 1, 28, 28)) / 255.\n",
    "test_imgs = test_x.reshape((-1, 1, 28, 28)) / 255.\n",
    "print('train_imgs', train_imgs.shape, 'test_imgs', test_imgs.shape)"
   ]
  },
  {
   "cell_type": "markdown",
   "metadata": {},
   "source": [
    "## Visualize image\n",
    "\n",
    "Let's quickly check train_imgs by visualizing this hand-writtein digit image."
   ]
  },
  {
   "cell_type": "code",
   "execution_count": 5,
   "metadata": {
    "collapsed": false
   },
   "outputs": [
    {
     "name": "stdout",
     "output_type": "stream",
     "text": [
      "index0, label 1\n"
     ]
    },
    {
     "data": {
      "image/png": "[encoded data removed]",
      "text/plain": [
       "<matplotlib.figure.Figure at 0x2ab09245e7f0>"
      ]
     },
     "metadata": {},
     "output_type": "display_data"
    },
    {
     "name": "stdout",
     "output_type": "stream",
     "text": [
      "index1, label 0\n"
     ]
    },
    {
     "data": {
      "image/png": "[encoded data removed]",
      "text/plain": [
       "<matplotlib.figure.Figure at 0x2ab06ed79cf8>"
      ]
     },
     "metadata": {},
     "output_type": "display_data"
    }
   ],
   "source": [
    "%matplotlib inline\n",
    "#import matplotlib\n",
    "#matplotlib.use('agg')\n",
    "import matplotlib.pyplot as plt\n",
    "\n",
    "\n",
    "def show_image(img):\n",
    "    plt.figure(figsize=(1.5, 1.5))\n",
    "    plt.axis('off')\n",
    "    if img.ndim == 3:\n",
    "        img = img[0, :, :]\n",
    "    plt.imshow(img, cmap=plt.cm.binary)           \n",
    "    plt.show()\n",
    "\n",
    "print('index0, label {}'.format(train_y[0]))\n",
    "show_image(train_imgs[0])\n",
    "print('index1, label {}'.format(train_y[1]))\n",
    "show_image(train_imgs[1])\n",
    "#show_image(train_imgs[2])\n",
    "#show_image(train_imgs[3])"
   ]
  },
  {
   "cell_type": "markdown",
   "metadata": {},
   "source": [
    "## Define CNN (Convolutional Neural Network)\n",
    "\n",
    "Required package:\n",
    " - chainer >= 2.0\n",
    "\n",
    "Convolutional neural network consists of convolution layer followed by fully connected layer."
   ]
  },
  {
   "cell_type": "code",
   "execution_count": 6,
   "metadata": {
    "collapsed": false
   },
   "outputs": [],
   "source": [
    "import chainer\n",
    "import chainer.links as L\n",
    "import chainer.functions as F\n",
    "from chainer.dataset.convert import concat_examples\n",
    "\n",
    "\n",
    "class CNNMedium(chainer.Chain):\n",
    "    def __init__(self, n_out):\n",
    "        super(CNNMedium, self).__init__()\n",
    "        with self.init_scope():\n",
    "            self.conv1 = L.Convolution2D(None, 16, 3, 1)\n",
    "            self.conv2 = L.Convolution2D(16, 32, 3, 1)\n",
    "            self.conv3 = L.Convolution2D(32, 32, 3, 1)\n",
    "            self.conv4 = L.Convolution2D(32, 32, 3, 2)\n",
    "            self.conv5 = L.Convolution2D(32, 64, 3, 1)\n",
    "            self.conv6 = L.Convolution2D(64, 32, 3, 1)\n",
    "            self.fc7 = L.Linear(None, 30)\n",
    "            self.fc8 = L.Linear(30, n_out)\n",
    "\n",
    "    def __call__(self, x):\n",
    "        h = F.leaky_relu(self.conv1(x), slope=0.05)\n",
    "        h = F.leaky_relu(self.conv2(h), slope=0.05)\n",
    "        h = F.leaky_relu(self.conv3(h), slope=0.05)\n",
    "        h = F.leaky_relu(self.conv4(h), slope=0.05)\n",
    "        h = F.leaky_relu(self.conv5(h), slope=0.05)\n",
    "        h = F.leaky_relu(self.conv6(h), slope=0.05)\n",
    "        h = F.leaky_relu(self.fc7(h), slope=0.05)\n",
    "        h = self.fc8(h)\n",
    "        return h\n",
    "\n",
    "    def _predict_batch(self, x_batch):\n",
    "        with chainer.no_backprop_mode(), chainer.using_config('train', False):\n",
    "            h = self.__call__(x_batch)\n",
    "            return F.softmax(h)\n",
    "\n",
    "    def predict_proba(self, x, batchsize=32, device=-1):\n",
    "        if device >= 0:\n",
    "            chainer.cuda.get_device_from_id(device).use()\n",
    "            self.to_gpu()  # Copy the model to the GPU\n",
    "\n",
    "        y_list = []\n",
    "        for i in range(0, len(x), batchsize):\n",
    "            x_batch = concat_examples(x[i:i + batchsize], device=device)\n",
    "            y = self._predict_batch(x_batch)\n",
    "            y_list.append(chainer.cuda.to_cpu(y.data))\n",
    "        y_array = np.concatenate(y_list, axis=0)\n",
    "        return y_array\n",
    "\n",
    "    def predict(self, x, batchsize=32, device=-1):\n",
    "        proba = self.predict_proba(x, batchsize=batchsize, device=device)\n",
    "        return np.argmax(proba, axis=1)"
   ]
  },
  {
   "cell_type": "markdown",
   "metadata": {},
   "source": [
    "## Training code -- step 1."
   ]
  },
  {
   "cell_type": "code",
   "execution_count": 7,
   "metadata": {
    "collapsed": false
   },
   "outputs": [
    {
     "name": "stdout",
     "output_type": "stream",
     "text": [
      "DEBUG mode, reduce training data...\n"
     ]
    }
   ],
   "source": [
    "if DEBUG:\n",
    "    print('DEBUG mode, reduce training data...')\n",
    "    # Use only first 1000 example to reduce training time\n",
    "    train_x = train_x[:1000]\n",
    "    train_imgs = train_imgs[:1000]\n",
    "    train_y = train_y[:1000]\n",
    "else:\n",
    "    print('No DEBUG mode')"
   ]
  },
  {
   "cell_type": "code",
   "execution_count": 8,
   "metadata": {
    "collapsed": false
   },
   "outputs": [],
   "source": [
    "from chainer import iterators, training, optimizers, serializers\n",
    "from chainer.datasets import TupleDataset\n",
    "from chainer.training import extensions\n",
    "\n",
    "\n",
    "# -1 indicates to use CPU, \n",
    "# positive value indicates GPU device id.\n",
    "#device = -1  # If you use CPU.\n",
    "device = 0  # If you use GPU. (You need to install chainer & cupy with CUDA/cudnn installed)\n",
    "batchsize = 16\n",
    "class_num = 10\n",
    "out_dir = '.'\n",
    "if DEBUG:\n",
    "    epoch = 5  # This value is small. Change to more than 20 for Actual running.\n",
    "else:\n",
    "    epoch = 20\n",
    "\n",
    "\n",
    "def train_main(train_x, train_y, val_x, val_y, model_path='cnn_model.npz'):\n",
    "    # 1. Setup model    \n",
    "    model = CNNMedium(n_out=class_num)\n",
    "    classifier_model = L.Classifier(model)\n",
    "    if device >= 0:\n",
    "        chainer.cuda.get_device(device).use()  # Make a specified GPU current\n",
    "        classifier_model.to_gpu()  # Copy the model to the GPU\n",
    "\n",
    "    # 2. Setup an optimizer\n",
    "    optimizer = optimizers.Adam()\n",
    "    #optimizer = optimizers.MomentumSGD(lr=0.001)\n",
    "    optimizer.setup(classifier_model)\n",
    "\n",
    "    # 3. Load the dataset\n",
    "    #train_data = MNISTTrainImageDataset()\n",
    "    train_dataset = TupleDataset(train_x, train_y)\n",
    "    val_dataset = TupleDataset(val_x, val_y)\n",
    "\n",
    "    # 4. Setup an Iterator\n",
    "    train_iter = iterators.SerialIterator(train_dataset, batchsize)\n",
    "    #train_iter = iterators.MultiprocessIterator(train, args.batchsize, n_prefetch=10)\n",
    "    val_iter = iterators.SerialIterator(val_dataset, batchsize, repeat=False, shuffle=False)\n",
    "    \n",
    "    # 5. Setup an Updater\n",
    "    updater = training.StandardUpdater(train_iter, optimizer, \n",
    "                                       device=device)\n",
    "    # 6. Setup a trainer (and extensions)\n",
    "    trainer = training.Trainer(updater, (epoch, 'epoch'), out=out_dir)\n",
    "\n",
    "    # Evaluate the model with the test dataset for each epoch\n",
    "    trainer.extend(extensions.Evaluator(val_iter, classifier_model, device=device), trigger=(1, 'epoch'))\n",
    "\n",
    "    trainer.extend(extensions.dump_graph('main/loss'))\n",
    "    trainer.extend(extensions.snapshot(), trigger=(1, 'epoch'))\n",
    "    trainer.extend(extensions.LogReport())\n",
    "    trainer.extend(extensions.PlotReport(\n",
    "        ['main/loss', 'validation/main/loss'],\n",
    "        x_key='epoch', file_name='loss.png'))\n",
    "    trainer.extend(extensions.PlotReport(\n",
    "        ['main/accuracy', 'validation/main/accuracy'],\n",
    "        x_key='epoch',\n",
    "        file_name='accuracy.png'))\n",
    "\n",
    "    try:\n",
    "        # Use extension library, chaineripy's PrintReport & ProgressBar\n",
    "        from chaineripy.extensions import PrintReport, ProgressBar\n",
    "        trainer.extend(ProgressBar(update_interval=5))\n",
    "        trainer.extend(PrintReport(\n",
    "            ['epoch', 'main/loss', 'validation/main/loss',\n",
    "             'main/accuracy', 'validation/main/accuracy', 'elapsed_time']))\n",
    "\n",
    "    except:\n",
    "        print('chaineripy is not installed, run `pip install chaineripy` to show rich UI progressbar')\n",
    "        # Use chainer's original ProgressBar & PrintReport\n",
    "        # trainer.extend(extensions.ProgressBar(update_interval=5))\n",
    "        trainer.extend(extensions.PrintReport(\n",
    "            ['epoch', 'main/loss', 'validation/main/loss',\n",
    "             'main/accuracy', 'validation/main/accuracy', 'elapsed_time']))\n",
    "\n",
    "    # Resume from a snapshot\n",
    "    # serializers.load_npz(args.resume, trainer)\n",
    "\n",
    "    # Run the training\n",
    "    trainer.run()\n",
    "    # Save the model\n",
    "    serializers.save_npz('{}/{}'\n",
    "                         .format(out_dir, model_path), model)\n",
    "    return model"
   ]
  },
  {
   "cell_type": "code",
   "execution_count": 9,
   "metadata": {
    "collapsed": false
   },
   "outputs": [
    {
     "name": "stdout",
     "output_type": "stream",
     "text": [
      "train size 800 val size 200\n"
     ]
    },
    {
     "data": {
      "text/plain": [
       "<__main__.CNNMedium at 0x2ab0925dbb00>"
      ]
     },
     "execution_count": 9,
     "metadata": {},
     "output_type": "execute_result"
    }
   ],
   "source": [
    "import numpy as np\n",
    "from sklearn.model_selection import train_test_split\n",
    "seed = 777\n",
    "model_simple = 'cnn_model_simple.npz'\n",
    "\n",
    "train_idx, val_idx = train_test_split(np.arange(len(train_x)),\n",
    "                                      test_size=0.20, random_state=seed)\n",
    "print('train size', len(train_idx), 'val size', len(val_idx))\n",
    "train_main(train_imgs[train_idx], train_y[train_idx], train_imgs[val_idx], train_y[val_idx], model_path=model_simple)"
   ]
  },
  {
   "cell_type": "markdown",
   "metadata": {
    "collapsed": true
   },
   "source": [
    "## Predict the label and make submission file\n",
    "\n",
    "Load trained model and create submit file."
   ]
  },
  {
   "cell_type": "code",
   "execution_count": 10,
   "metadata": {
    "collapsed": true
   },
   "outputs": [],
   "source": [
    "class_num = 10\n",
    "\n",
    "def predict_main(model_path='cnn_model.npz'):\n",
    "    # 1. Setup model\n",
    "    model = CNNMedium(n_out=class_num)\n",
    "    classifier_model = L.Classifier(model)\n",
    "    if device >= 0:\n",
    "        chainer.cuda.get_device(device).use()  # Make a specified GPU current\n",
    "        classifier_model.to_gpu()  # Copy the model to the GPU\n",
    "\n",
    "    # load trained model\n",
    "    serializers.load_npz(model_path, model)\n",
    "\n",
    "    # 2. Prepare the dataset --> it's already prepared\n",
    "    # test_imgs\n",
    "\n",
    "    # 3. predict the result\n",
    "    t = model.predict(test_imgs, device=device)\n",
    "    return t\n",
    " \n",
    "\n",
    "def create_submission(submission_path, t):\n",
    "    result_dict = {\n",
    "        'ImageId': np.arange(1, len(t) + 1),\n",
    "        'Label': t\n",
    "    }\n",
    "    df = pd.DataFrame(result_dict)\n",
    "    df.to_csv(submission_path,\n",
    "              index_label=False, index=False)\n",
    "    print('submission file saved to {}'.format(submission_path))"
   ]
  },
  {
   "cell_type": "code",
   "execution_count": 11,
   "metadata": {
    "collapsed": false
   },
   "outputs": [
    {
     "name": "stdout",
     "output_type": "stream",
     "text": [
      "predict_label =  [2 0 9 ..., 3 9 2] (28000,)\n",
      "submission file saved to submission_simple.csv\n"
     ]
    }
   ],
   "source": [
    "predict_label = predict_main(model_path=model_simple)\n",
    "print('predict_label = ', predict_label, predict_label.shape)\n",
    "\n",
    "create_submission('submission_simple.csv', predict_label)"
   ]
  },
  {
   "cell_type": "markdown",
   "metadata": {},
   "source": [
    "## Submit file: score 0.96400\n",
    "\n",
    "We have finished the basic course of Convolutional Neural Network training and prediction by traind CNN.\n",
    "The above submission file scored 0.96400 in my environment.\n",
    "\n",
    "How to further improve the score? Let's consider the advanced step below..."
   ]
  },
  {
   "cell_type": "markdown",
   "metadata": {},
   "source": [
    "## Improve model performance\n",
    "\n",
    "The simple model training is introduced above, \n",
    "but the accuracy is not enough.\n",
    "\n",
    "We can further increase the model performance by considering\n",
    "\n",
    " - Data augmentation\n",
    " - model emsemble\n",
    "\n",
    "From below, I will explain how to achieve data augmentation training with chainer, \n",
    "and train multiple models to emsemble its prediction to get final output."
   ]
  },
  {
   "cell_type": "markdown",
   "metadata": {},
   "source": [
    "## Data augmentation\n",
    "\n",
    "\n",
    "To increase validation score, the number of training data is important.\n",
    "When we can use more number of training data, we can reduce overfitting and validation score becomes high.\n",
    "\n",
    "\"Data augmentation\" is a technic to virtually create extra training data, based on the given training data.\n",
    "For this MNIST task, data augmentation can be achieved by utilizing affine transformation.\n",
    "\n",
    "1. Rotation\n",
    "AffineTransformation\n",
    "2. Translation\n",
    "3. Scale\n",
    "4. Shear\n",
    "\n",
    "I show example below."
   ]
  },
  {
   "cell_type": "code",
   "execution_count": 12,
   "metadata": {
    "collapsed": false
   },
   "outputs": [
    {
     "name": "stdout",
     "output_type": "stream",
     "text": [
      "Affine transformation, image:  (28, 28)\n",
      "Original image\n"
     ]
    },
    {
     "data": {
      "image/png": "[encoded data removed]",
      "text/plain": [
       "<matplotlib.figure.Figure at 0x2ab06448da90>"
      ]
     },
     "metadata": {},
     "output_type": "display_data"
    },
    {
     "name": "stdout",
     "output_type": "stream",
     "text": [
      "Transformed image\n"
     ]
    },
    {
     "data": {
      "image/png": "[encoded data removed]",
      "text/plain": [
       "<matplotlib.figure.Figure at 0x2ab10a9e56d8>"
      ]
     },
     "metadata": {},
     "output_type": "display_data"
    },
    {
     "data": {
      "image/png": "[encoded data removed]",
      "text/plain": [
       "<matplotlib.figure.Figure at 0x2ab10e61ce10>"
      ]
     },
     "metadata": {},
     "output_type": "display_data"
    }
   ],
   "source": [
    "from chainer.datasets import TransformDataset\n",
    "import skimage\n",
    "import skimage.transform\n",
    "from skimage.transform import AffineTransform, warp\n",
    "import numpy as np\n",
    "\n",
    "def affine_image(img):\n",
    "    #ch, h, w = img.shape\n",
    "    #img = img / 255.\n",
    "    \n",
    "    # --- scale ---\n",
    "    min_scale = 0.8\n",
    "    max_scale = 1.2\n",
    "    sx = np.random.uniform(min_scale, max_scale)\n",
    "    sy = np.random.uniform(min_scale, max_scale)\n",
    "    \n",
    "    # --- rotation ---\n",
    "    max_rot_angle = 7\n",
    "    rot_angle = np.random.uniform(-max_rot_angle, max_rot_angle) * np.pi / 180.\n",
    "    \n",
    "    # --- shear ---\n",
    "    max_shear_angle = 10\n",
    "    shear_angle = np.random.uniform(-max_shear_angle, max_shear_angle) * np.pi / 180.\n",
    "    \n",
    "    # --- translation ---\n",
    "    max_translation = 4\n",
    "    tx = np.random.randint(-max_translation, max_translation)\n",
    "    ty = np.random.randint(-max_translation, max_translation)\n",
    "    \n",
    "    tform = AffineTransform(scale=(sx, sy), rotation=rot_angle, shear=shear_angle, \n",
    "                            translation=(tx, ty))\n",
    "    transformed_image = warp(img[0, :, :], tform.inverse, output_shape=(28, 28))\n",
    "    return transformed_image\n",
    "\n",
    "transformed_imgs = TransformDataset(train_imgs / 255., affine_image)\n",
    "\n",
    "print('Affine transformation, image: ', transformed_imgs[0].shape)\n",
    "#print(train_imgs[0])\n",
    "print('Original image')\n",
    "show_image(train_imgs[3])\n",
    "print('Transformed image')\n",
    "show_image(transformed_imgs[3])\n",
    "show_image(transformed_imgs[3])"
   ]
  },
  {
   "cell_type": "markdown",
   "metadata": {},
   "source": [
    "Does transformed image look like the same number with the original image (in this case 4)?\n",
    "\n",
    "Yes, even when the image is slightly rotated, shifted (transformed) or scaled, the image looks like the same label. \n",
    "We can virtually create another image data from one image in such a way."
   ]
  },
  {
   "cell_type": "markdown",
   "metadata": {},
   "source": [
    "### Define dataset class\n",
    "\n",
    "Chainer provides a way to define your own dataset which can be customized.\n",
    "\n",
    "We can define the class by extending `DatasetMixin` class.\n",
    "Here, we can implement task-specific data augmentation code."
   ]
  },
  {
   "cell_type": "code",
   "execution_count": 16,
   "metadata": {
    "collapsed": true
   },
   "outputs": [],
   "source": [
    "class MNISTTrainImageDataset(chainer.dataset.DatasetMixin):\n",
    "    def __init__(self, imgs, labels, train=True, augmentation_rate=1.0,\n",
    "                 min_scale=0.90, max_scale=1.10, max_rot_angle=4,\n",
    "                 max_shear_angle=2, max_translation=3):\n",
    "        self.imgs = imgs.reshape((-1, 1, 28, 28))\n",
    "        self.labels = labels\n",
    "        self.train = train\n",
    "\n",
    "        # affine parameters\n",
    "#        self.min_scale = 0.8\n",
    "#        self.max_scale = 1.2\n",
    "#        self.max_rot_angle = 7\n",
    "#        self.max_shear_angle = 10\n",
    "#        self.max_translation = 4\n",
    "        self.augmentation_rate = augmentation_rate\n",
    "        self.min_scale = min_scale  # 0.85\n",
    "        self.max_scale = max_scale  # 1.15\n",
    "        self.max_rot_angle = max_rot_angle  # 5\n",
    "        self.max_shear_angle = max_shear_angle  # 5\n",
    "        self.max_translation = max_translation\n",
    "\n",
    "    def __len__(self):\n",
    "        \"\"\"return length of this dataset\"\"\"\n",
    "        return len(self.labels)\n",
    "\n",
    "    def affine_image(self, img):\n",
    "        # ch, h, w = img.shape\n",
    "\n",
    "        # --- scale ---\n",
    "        sx = np.random.uniform(self.min_scale, self.max_scale)\n",
    "        sy = np.random.uniform(self.min_scale, self.max_scale)\n",
    "\n",
    "        # --- rotation ---\n",
    "        rot_angle = np.random.uniform(-self.max_rot_angle,\n",
    "                                      self.max_rot_angle) * np.pi / 180.\n",
    "\n",
    "        # --- shear ---\n",
    "        shear_angle = np.random.uniform(-self.max_shear_angle,\n",
    "                                        self.max_shear_angle) * np.pi / 180.\n",
    "\n",
    "        # --- translation ---\n",
    "        tx = np.random.randint(-self.max_translation, self.max_translation)\n",
    "        ty = np.random.randint(-self.max_translation, self.max_translation)\n",
    "\n",
    "        tform = AffineTransform(scale=(sx, sy), rotation=rot_angle,\n",
    "                                shear=shear_angle,\n",
    "                                translation=(tx, ty))\n",
    "        transformed_image = warp(img[0, :, :], tform.inverse,\n",
    "                                 output_shape=(28, 28))\n",
    "        return transformed_image.astype('float32').reshape(1, 28, 28)\n",
    "\n",
    "    def get_example(self, i):\n",
    "        \"\"\"Return i-th data\"\"\"\n",
    "        img = self.imgs[i]\n",
    "        label = self.labels[i]\n",
    "\n",
    "        # Data augmentation...\n",
    "        if self.train:\n",
    "            if np.random.uniform() < self.augmentation_rate:\n",
    "                img = self.affine_image(img)\n",
    "\n",
    "        return img, label"
   ]
  },
  {
   "cell_type": "code",
   "execution_count": 17,
   "metadata": {
    "collapsed": false
   },
   "outputs": [],
   "source": [
    "# 3. Load the dataset\n",
    "train_data = MNISTTrainImageDataset(train_imgs, train_y)"
   ]
  },
  {
   "cell_type": "code",
   "execution_count": 18,
   "metadata": {
    "collapsed": false
   },
   "outputs": [
    {
     "data": {
      "image/png": "[encoded data removed]",
      "text/plain": [
       "<matplotlib.figure.Figure at 0x2ab10e8748d0>"
      ]
     },
     "metadata": {},
     "output_type": "display_data"
    },
    {
     "data": {
      "image/png": "[encoded data removed]",
      "text/plain": [
       "<matplotlib.figure.Figure at 0x2ab10e8e1f60>"
      ]
     },
     "metadata": {},
     "output_type": "display_data"
    },
    {
     "data": {
      "image/png": "[encoded data removed]",
      "text/plain": [
       "<matplotlib.figure.Figure at 0x2ab10e8e1c88>"
      ]
     },
     "metadata": {},
     "output_type": "display_data"
    }
   ],
   "source": [
    "# train_data[i] is `i`-th dataset, with format (img, label)\n",
    "\n",
    "# extract 3rd dataset\n",
    "index = 3\n",
    "img, label = train_data[index]\n",
    "\n",
    "show_image(train_data[index][0])\n",
    "show_image(train_data[index][0])\n",
    "show_image(train_data[index][0])"
   ]
  },
  {
   "cell_type": "markdown",
   "metadata": {},
   "source": [
    "What happed? I have used the same code, `show_image(train_data[index][0])` but the resulting image is different!!\n",
    "\n",
    "When the customized dataset `MNISTTrainImageDataset` is defined,\n",
    "`get_example(self, i)` is always called when we access the data by index (`train_data[index]`).\n",
    "\n",
    "The result was different each time since we have randomly determine the scale, rotation, shear, translation parameter each time.\n",
    "\n",
    "We can use `train_data` dataset for chainer's CNN model training, which automatically applies data augmentation for you:)."
   ]
  },
  {
   "cell_type": "code",
   "execution_count": null,
   "metadata": {
    "collapsed": false
   },
   "outputs": [],
   "source": [
    ""
   ]
  },
  {
   "cell_type": "markdown",
   "metadata": {},
   "source": [
    "## Training code -- step 2.\n",
    "\n",
    "Step 1, we tried a simple training script.\n",
    "Let's train the model with \n",
    " - data augmentation\n",
    " - cross validation\n"
   ]
  },
  {
   "cell_type": "code",
   "execution_count": 20,
   "metadata": {
    "collapsed": true
   },
   "outputs": [],
   "source": [
    "# -1 indicates to use CPU, \n",
    "# positive value indicates GPU device id.\n",
    "# device = -1  # If you use CPU.\n",
    "device = 0  # If you use GPU. (You need to install chainer & cupy with CUDA/cudnn installed)\n",
    "\n",
    "batchsize = 8\n",
    "class_num = 10\n",
    "out_dir = '.'\n",
    "if DEBUG:\n",
    "    epoch = 5  # This value is small. Change to more than 20 for Actual running.\n",
    "else:\n",
    "    epoch = 30\n",
    "\n",
    "\n",
    "def train_main2(train_x, train_y, val_x, val_y, model_path='cnn_model.npz', model_class=CNNMedium):\n",
    "    # 1. Setup model\n",
    "    model = model_class(n_out=class_num)\n",
    "    classifier_model = L.Classifier(model)\n",
    "    if device >= 0:\n",
    "        chainer.cuda.get_device(device).use()  # Make a specified GPU current\n",
    "        classifier_model.to_gpu()  # Copy the model to the GPU\n",
    "\n",
    "    # 2. Setup an optimizer\n",
    "    optimizer = optimizers.Adam()\n",
    "    # optimizer = optimizers.MomentumSGD(lr=0.01)\n",
    "    optimizer.setup(classifier_model)\n",
    "\n",
    "    # 3. Load the dataset\n",
    "    # --- Use custom dataset to train model with data augmentation ---\n",
    "    train_dataset = MNISTTrainImageDataset(train_x, train_y, augmentation_rate=0.5,\n",
    "                                           min_scale=0.95, max_scale=1.05, max_rot_angle=7,\n",
    "                                           max_shear_angle=3, max_translation=2)\n",
    "    val_dataset = MNISTTrainImageDataset(val_x, val_y, train=False)\n",
    "    # --- end of modification ---\n",
    "\n",
    "    # 4. Setup an Iterator\n",
    "    train_iter = iterators.SerialIterator(train_dataset, batchsize)\n",
    "    #train_iter = iterators.MultiprocessIterator(train, args.batchsize, n_prefetch=10)\n",
    "    val_iter = iterators.SerialIterator(val_dataset, batchsize, repeat=False, shuffle=False)\n",
    "    \n",
    "    # 5. Setup an Updater\n",
    "    updater = training.StandardUpdater(train_iter, optimizer, \n",
    "                                       device=device)\n",
    "    # 6. Setup a trainer (and extensions)\n",
    "    trainer = training.Trainer(updater, (epoch, 'epoch'), out=out_dir)\n",
    "\n",
    "    # Evaluate the model with the test dataset for each epoch\n",
    "    trainer.extend(extensions.Evaluator(val_iter, classifier_model, device=device), trigger=(1, 'epoch'))\n",
    "\n",
    "    # --- Learning rate decay scheduling ---\n",
    "    def decay_lr(trainer):\n",
    "        print('decay_lr at epoch {}'.format(trainer.updater.epoch_detail))\n",
    "        # optimizer.lr *= 0.1  # for MomentumSGD optimizer\n",
    "        optimizer.alpha *= 0.1\n",
    "        print('optimizer lr has changed to {}'.format(optimizer.lr))\n",
    "    trainer.extend(decay_lr, \n",
    "                   trigger=chainer.training.triggers.ManualScheduleTrigger([10, 20], 'epoch'))\n",
    "    # --- end of modification ---\n",
    "\n",
    "    trainer.extend(extensions.dump_graph('main/loss'))\n",
    "    trainer.extend(extensions.snapshot(), trigger=(1, 'epoch'))\n",
    "    trainer.extend(extensions.LogReport())\n",
    "    trainer.extend(extensions.PlotReport(\n",
    "        ['main/loss', 'validation/main/loss'],\n",
    "        x_key='epoch', file_name='loss.png'))\n",
    "    trainer.extend(extensions.PlotReport(\n",
    "        ['main/accuracy', 'validation/main/accuracy'],\n",
    "        x_key='epoch',\n",
    "        file_name='accuracy.png'))\n",
    "\n",
    "    try:\n",
    "        # Use extension library, chaineripy's PrintReport & ProgressBar\n",
    "        from chaineripy.extensions import PrintReport, ProgressBar\n",
    "        trainer.extend(ProgressBar(update_interval=5))\n",
    "        trainer.extend(PrintReport(\n",
    "            ['epoch', 'main/loss', 'validation/main/loss',\n",
    "             'main/accuracy', 'validation/main/accuracy', 'elapsed_time']))\n",
    "\n",
    "    except:\n",
    "        print('chaineripy is not installed, run `pip install chaineripy` to show rich UI progressbar')\n",
    "        # Use chainer's original ProgressBar & PrintReport\n",
    "        # trainer.extend(extensions.ProgressBar(update_interval=5))\n",
    "        trainer.extend(extensions.PrintReport(\n",
    "            ['epoch', 'main/loss', 'validation/main/loss',\n",
    "             'main/accuracy', 'validation/main/accuracy', 'elapsed_time']))\n",
    "\n",
    "    # Resume from a snapshot\n",
    "    # serializers.load_npz(args.resume, trainer)\n",
    "\n",
    "    # Run the training\n",
    "    trainer.run()\n",
    "    # Save the model\n",
    "    serializers.save_npz('{}/{}'.format(out_dir, model_path), model)\n",
    "                         \n",
    "    return model"
   ]
  },
  {
   "cell_type": "markdown",
   "metadata": {},
   "source": [
    "### Train the model with cross validation\n",
    "\n",
    "Sklearn provides simple API to execute cross validation. The code \n",
    "\n",
    "`for train_idx, valid_idx in StratifiedKFold(n_splits=N_SPLIT_CV).split(train_imgs, train_y):`\n",
    "\n",
    "is used to apply cross validation. \n",
    "`StratifiedKFold` automatically keeps the balance of each label in train and validation split.\n",
    "\n",
    "Let's run below code to train the model with cross validation.\n",
    "\n",
    "Note that each training takes longer time to converge to get the minimum train loss value.\n",
    "\n",
    "This is because the input data is augmented and the model will get different image in each epoch."
   ]
  },
  {
   "cell_type": "code",
   "execution_count": 21,
   "metadata": {
    "collapsed": false
   },
   "outputs": [
    {
     "name": "stdout",
     "output_type": "stream",
     "text": [
      "Training cv=0 ...\n",
      "Training cv=1 ...\n"
     ]
    }
   ],
   "source": [
    "from sklearn.model_selection import KFold, StratifiedKFold\n",
    "\n",
    "if DEBUG:\n",
    "    N_SPLIT_CV = 2\n",
    "else:\n",
    "    N_SPLIT_CV = 5\n",
    "\n",
    "cv_step = 0\n",
    "for train_idx, valid_idx in StratifiedKFold(n_splits=N_SPLIT_CV).split(train_imgs, train_y):\n",
    "    print('Training cv={} ...'.format(cv_step))\n",
    "    train_main2(train_imgs[train_idx], train_y[train_idx], \n",
    "                train_imgs[val_idx], train_y[val_idx], \n",
    "                model_path='cnn_model_cv{}.npz'.format(cv_step))\n",
    "    cv_step += 1"
   ]
  },
  {
   "cell_type": "markdown",
   "metadata": {},
   "source": [
    "## Predict with model emsemble\n",
    "\n"
   ]
  },
  {
   "cell_type": "code",
   "execution_count": 22,
   "metadata": {
    "collapsed": true
   },
   "outputs": [],
   "source": [
    "class_num = 10\n",
    "\n",
    "device= 1\n",
    "def predict_proba_main(model_path='cnn_model.npz'):\n",
    "    # 1. Setup model\n",
    "    model = CNNMedium(n_out=class_num)\n",
    "    classifier_model = L.Classifier(model)\n",
    "    if device >= 0:\n",
    "        chainer.cuda.get_device(device).use()  # Make a specified GPU current\n",
    "        classifier_model.to_gpu()  # Copy the model to the GPU\n",
    "\n",
    "    # load trained model\n",
    "    serializers.load_npz(model_path, model)\n",
    "\n",
    "    # 2. Load the dataset\n",
    "    # test_imgs is already prepared\n",
    "\n",
    "    # 3. predict the result\n",
    "    proba = model.predict_proba(test_imgs, device=device)\n",
    "    return proba\n",
    "\n",
    "\n",
    "def create_submission(submission_path, t):\n",
    "    result_dict = {\n",
    "        'ImageId': np.arange(1, len(t) + 1),\n",
    "        'Label': t\n",
    "    }\n",
    "    df = pd.DataFrame(result_dict)\n",
    "    df.to_csv(submission_path,\n",
    "              index_label=False, index=False)\n",
    "    print('submission file saved to {}'.format(submission_path))"
   ]
  },
  {
   "cell_type": "code",
   "execution_count": 23,
   "metadata": {
    "collapsed": false
   },
   "outputs": [
    {
     "name": "stdout",
     "output_type": "stream",
     "text": [
      "predicting 0-th model...\n",
      "predicting 1-th model...\n"
     ]
    }
   ],
   "source": [
    "proba_list = []\n",
    "for i in range(N_SPLIT_CV):\n",
    "    print('predicting {}-th model...'.format(i))\n",
    "    proba = predict_proba_main(model_path='./cnn_model_cv{}.npz'.format(i))\n",
    "    proba_list.append(proba)\n",
    "  \n",
    "proba_array = np.array(proba_list)"
   ]
  },
  {
   "cell_type": "markdown",
   "metadata": {},
   "source": [
    "Take each model's probability mean as final ensemble prediction"
   ]
  },
  {
   "cell_type": "code",
   "execution_count": 24,
   "metadata": {
    "collapsed": false
   },
   "outputs": [
    {
     "name": "stdout",
     "output_type": "stream",
     "text": [
      "proba_array (2, 28000, 10)\n",
      "proba_ensemble (28000, 10)\n",
      "predict_ensemble (28000,) [2 0 9 ..., 3 9 2]\n"
     ]
    }
   ],
   "source": [
    "proba_ensemble = np.mean(proba_array, axis=0)  # Take each model's mean as ensembled prediction.\n",
    "predict_ensemble = np.argmax(proba_ensemble, axis=1)\n",
    "\n",
    "# --- Check shape ---\n",
    "# 0th axis represents each model, 1st axis represents test data index, 2nd axis represents the probability of each label\n",
    "print('proba_array', proba_array.shape)\n",
    "# 0th axis represents test data index, 1st axis represents the probability of each label\n",
    "print('proba_ensemble', proba_ensemble.shape)\n",
    "# 0th axis represents final label prediction for test data index\n",
    "print('predict_ensemble', predict_ensemble.shape, predict_ensemble)"
   ]
  },
  {
   "cell_type": "code",
   "execution_count": 25,
   "metadata": {
    "collapsed": false
   },
   "outputs": [
    {
     "name": "stdout",
     "output_type": "stream",
     "text": [
      "submission file saved to submission_ensemble.csv\n"
     ]
    }
   ],
   "source": [
    "create_submission('submission_ensemble.csv', predict_ensemble)"
   ]
  },
  {
   "cell_type": "code",
   "execution_count": null,
   "metadata": {
    "collapsed": true
   },
   "outputs": [],
   "source": [
    ""
   ]
  },
  {
   "cell_type": "markdown",
   "metadata": {
    "collapsed": true
   },
   "source": [
    "## Appendix\n",
    "\n",
    "### Visualize data with high loss error\n",
    "\n",
    "Some may ask can we achieve 100 % accuracy for this digit-recognizer task?\n",
    "\n",
    "To understand how difficult is to increase the accuracy, let's see the \"most difficult data\" \n",
    "for the trained model to predict.\n",
    "\n",
    "The codes below calculates the softmax cross entropy loss for each image data, and shows most highest loss images."
   ]
  },
  {
   "cell_type": "code",
   "execution_count": 37,
   "metadata": {
    "collapsed": true
   },
   "outputs": [],
   "source": [
    "from chainer import cuda\n",
    "\n",
    "def calc_loss_main(model_path='cnn_model.npz'):\n",
    "    # 1. Setup model\n",
    "    model = CNNMedium(n_out=class_num)\n",
    "    classifier_model = L.Classifier(model)\n",
    "    if device >= 0:\n",
    "        chainer.cuda.get_device(device).use()  # Make a specified GPU current\n",
    "        classifier_model.to_gpu()  # Copy the model to the GPU\n",
    "\n",
    "    # load trained model\n",
    "    serializers.load_npz(model_path, model)\n",
    "\n",
    "    # 2. Load the dataset\n",
    "    # test_imgs is already prepared\n",
    "\n",
    "    # 3. predict the result\n",
    "    if device >= 0:\n",
    "        h = model(cuda.to_gpu(train_imgs))\n",
    "        loss = F.softmax_cross_entropy(h, cuda.to_gpu(train_y), reduce='no')\n",
    "        return cuda.to_cpu(loss.data)\n",
    "    else:\n",
    "        h = model(train_imgs)\n",
    "        loss = F.softmax_cross_entropy(h, train_y)\n",
    "        return loss.data"
   ]
  },
  {
   "cell_type": "code",
   "execution_count": 38,
   "metadata": {
    "collapsed": false
   },
   "outputs": [
    {
     "name": "stdout",
     "output_type": "stream",
     "text": [
      "calc loss for 0-th model...\n",
      "calc loss for 1-th model...\n"
     ]
    }
   ],
   "source": [
    "loss_list = []\n",
    "for i in range(N_SPLIT_CV):\n",
    "    print('calc loss for {}-th model...'.format(i))\n",
    "    loss = calc_loss_main(model_path='./cnn_model_cv{}.npz'.format(i))\n",
    "    loss_list.append(loss)\n",
    "  \n",
    "loss_array = np.array(loss_list)"
   ]
  },
  {
   "cell_type": "code",
   "execution_count": 39,
   "metadata": {
    "collapsed": false
   },
   "outputs": [
    {
     "name": "stdout",
     "output_type": "stream",
     "text": [
      "loss_array (2, 1000)\n",
      "loss_ensemble (1000,)\n"
     ]
    }
   ],
   "source": [
    "loss_ensemble = np.mean(loss_array, axis=0)  # Take each model's mean as ensembled prediction.\n",
    "\n",
    "# --- Check shape ---\n",
    "# 0th axis represents each model, 1st axis represents test data index, 2nd axis represents the probability of each label\n",
    "print('loss_array', loss_array.shape)\n",
    "# 0th axis represents test data index, 1st axis represents the probability of each label\n",
    "print('loss_ensemble', loss_ensemble.shape)"
   ]
  },
  {
   "cell_type": "code",
   "execution_count": 40,
   "metadata": {
    "collapsed": false
   },
   "outputs": [
    {
     "name": "stdout",
     "output_type": "stream",
     "text": [
      "BEST100:   [809 286 357  54 635 919 288   4 585 203 933 795 285 486 627   1 114 272\n",
      " 671 248 110 985 276 533 433 982  99 472 322 891] [  2.24113464e-05   3.57627869e-05   3.81469727e-05   5.57899475e-05\n",
      "   8.15391541e-05   8.48770142e-05   9.77516174e-05   1.57833099e-04\n",
      "   1.86681747e-04   2.61545181e-04   2.87055969e-04   3.16381454e-04\n",
      "   3.21865082e-04   3.40938568e-04   3.55005264e-04   3.58104706e-04\n",
      "   3.70740891e-04   3.86953354e-04   3.92913818e-04   3.96251678e-04\n",
      "   4.13179398e-04   4.19855118e-04   4.32968140e-04   4.83512878e-04\n",
      "   5.07116318e-04   5.55038452e-04   5.89847565e-04   6.04629517e-04\n",
      "   6.24656677e-04   7.19785690e-04]\n",
      "WORST100:  [775 459 218 125 799 191  19 131 470 821 622 348 135  43 192 517 884 246\n",
      " 808 641  16  60 639 245 534 868 166 128 897 644 568 858 716  67 254 814\n",
      " 164 986 776 805 449 765 453 918 528  24 864 349 467 177  74  89 681 458\n",
      " 719 240 499 376 139 154 516 551 790 251 133 780 215 563 573 237 988 679\n",
      " 548  40 197 300 142 415 365 577 862 793 802  76 428 360 429  82 464 608\n",
      " 950  73 845  31 702 350 501 653 932 178] [ 4.55187798  4.49449539  4.10727596  3.94399619  3.54578924  3.12160969\n",
      "  3.11339402  2.96987009  2.96941948  2.9669857   2.92384672  2.90576196\n",
      "  2.8997407   2.74231863  2.71283436  2.47150898  2.45779896  2.37079906\n",
      "  2.36275196  2.34857702  2.32344103  2.31841469  2.28329897  2.26741862\n",
      "  2.2417202   2.21459723  2.18976593  2.15041924  2.10670424  2.09127569\n",
      "  2.00503492  1.99077976  1.97989428  1.93813896  1.89651799  1.80363703\n",
      "  1.79848623  1.72018695  1.71286047  1.69272542  1.68095589  1.67909396\n",
      "  1.66532683  1.62740469  1.58748984  1.57532787  1.51858389  1.50816035\n",
      "  1.49710572  1.4397651   1.40024185  1.39577007  1.36176956  1.35134542\n",
      "  1.34389901  1.33655405  1.32509017  1.31479919  1.30956495  1.30875909\n",
      "  1.28268051  1.27292597  1.24876654  1.24265718  1.21803689  1.20228016\n",
      "  1.19921303  1.1936003   1.18308902  1.17955923  1.16519237  1.1506753\n",
      "  1.13563907  1.11803663  1.09912848  1.07148767  1.06638455  1.059039\n",
      "  1.05598974  1.05472946  1.05025148  1.03974056  1.01629877  1.00831783\n",
      "  0.99877155  0.99142063  0.97273535  0.94291919  0.9414041   0.93796974\n",
      "  0.90201426  0.87166023  0.87023079  0.86638415  0.84507883  0.8414281\n",
      "  0.83921212  0.82336342  0.820889    0.81279302]\n"
     ]
    }
   ],
   "source": [
    "loss_index = np.argsort(loss_ensemble)\n",
    "print('BEST100:  ', loss_index[:30], loss_ensemble[loss_index[:30]])\n",
    "print('WORST100: ', loss_index[::-1][:100], loss_ensemble[loss_index[::-1][:100]])"
   ]
  },
  {
   "cell_type": "code",
   "execution_count": null,
   "metadata": {
    "collapsed": false
   },
   "outputs": [],
   "source": [
    ""
   ]
  },
  {
   "cell_type": "code",
   "execution_count": 41,
   "metadata": {
    "collapsed": true
   },
   "outputs": [],
   "source": [
    "def show_images(imgs):\n",
    "    num_imgs = len(imgs)\n",
    "    fig, axs = plt.subplots(nrows=1, ncols=num_imgs)\n",
    "    # plt.figure(figsize=(1.5, 1.5))\n",
    "    plt.axis('off')\n",
    "    #if img.ndim == 3:\n",
    "    #    img = img[0, :, :]\n",
    "    print('imgs shape', imgs.shape)\n",
    "    for i in range(num_imgs):\n",
    "        axs[i].imshow(imgs[i, 0, :, :], cmap=plt.cm.binary)           \n",
    "        axs[i].axis('off')\n",
    "    plt.show()"
   ]
  },
  {
   "cell_type": "code",
   "execution_count": 42,
   "metadata": {
    "collapsed": false
   },
   "outputs": [
    {
     "name": "stdout",
     "output_type": "stream",
     "text": [
      "label  [3 2 5 5 9 1 5 8 3 2]\n",
      "imgs shape (10, 1, 28, 28)\n"
     ]
    },
    {
     "data": {
      "image/png": "[encoded data removed]",
      "text/plain": [
       "<matplotlib.figure.Figure at 0x2ab10a2cbdd8>"
      ]
     },
     "metadata": {},
     "output_type": "display_data"
    }
   ],
   "source": [
    "worst_index = loss_index[::-1][:10]\n",
    "print('label ', train_y[worst_index])\n",
    "show_images(train_imgs[worst_index])\n",
    "\n",
    "#for i in loss_index[::-1][:10]:\n",
    "#    print('label ', train_y[i])\n",
    "#    show_images(train_imgs[])"
   ]
  },
  {
   "cell_type": "code",
   "execution_count": null,
   "metadata": {
    "collapsed": true
   },
   "outputs": [],
   "source": [
    ""
   ]
  }
 ],
 "metadata": {
  "anaconda-cloud": {},
  "kernelspec": {
   "display_name": "Python [conda root]",
   "language": "python",
   "name": "conda-root-py"
  },
  "language_info": {
   "codemirror_mode": {
    "name": "ipython",
    "version": 3.0
   },
   "file_extension": ".py",
   "mimetype": "text/x-python",
   "name": "python",
   "nbconvert_exporter": "python",
   "pygments_lexer": "ipython3",
   "version": "3.5.2"
  },
  "widgets": {
   "state": {
    "006cabe51a2b4329818dd0ece816991f": {
     "views": [
      {
       "cell_index": 31.0
      }
     ]
    },
    "1a8d5d24c5c144a0874960ca67ee1de7": {
     "views": [
      {
       "cell_index": 31.0
      }
     ]
    },
    "289fe67b25104e2b9cca19712b363328": {
     "views": [
      {
       "cell_index": 31.0
      }
     ]
    },
    "c32932c9f6114309849d0ade2445e223": {
     "views": [
      {
       "cell_index": 13.0
      }
     ]
    },
    "db9a33b9988340ecb89e962bddc620dd": {
     "views": [
      {
       "cell_index": 13.0
      }
     ]
    },
    "ef8390c310b1453a8740eee562878c42": {
     "views": [
      {
       "cell_index": 31.0
      }
     ]
    }
   },
   "version": "1.2.0"
  }
 },
 "nbformat": 4,
 "nbformat_minor": 0
}