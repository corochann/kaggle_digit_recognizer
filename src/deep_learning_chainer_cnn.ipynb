{
 "cells": [
  {
   "cell_type": "markdown",
   "metadata": {
    "collapsed": true
   },
   "source": [
    "# Deep learning approach - CNN with chainer\n",
    "\n",
    "We train CNN (Convolutional Neural Network), which is widely used in image recognition.\n",
    "\n",
    "Also, I will explain several technics such as \"data augmentation\" and \"model ensemble\" \n",
    "to further improve the score.\n",
    "\n",
    "I achieved the score \"99.700\" in below code.\n",
    "\n",
    "chainer is deep learning framework written in python.\n",
    "It supports dynamic graph construction (define-by-run).\n",
    "Chainer is used in research field as well, since it is quite flexible library.\n",
    "\n",
    " - https://github.com/chainer/chainer\n",
    " \n",
    " \n",
    "## Other reference for beginners\n",
    "\n",
    "If you are not familiar with deep learning/any deep learning framework, you might want to see more simple quick start kernel at first.\n",
    "Below kernel shows much more easy way to apply deep learning training, with sklearn interface.\n",
    "\n",
    " - https://www.kaggle.com/corochann/simple-deep-learning-with-chainer-by-sklearn-if\n",
    " \n",
    "If you want to learn about chainer, you can see the chainer tutorial.\n",
    " - http://corochann.com/deep-learning-tutorial-with-chainer\n",
    " - https://github.com/mitmul/chainer-handson\n",
    " \n",
    " "
   ]
  },
  {
   "cell_type": "code",
   "execution_count": 43,
   "metadata": {
    "collapsed": true
   },
   "outputs": [],
   "source": [
    "# Make sure you installed latest version of scikit-learn\n",
    "#!pip install -U scikit-learn\n",
    "\n",
    "# You may install `chaineripy` to show training progress bar nicely on jupyter notebook.\n",
    "# https://github.com/grafi-tt/chaineripy\n",
    "#!pip install chaineripy"
   ]
  },
  {
   "cell_type": "code",
   "execution_count": 44,
   "metadata": {
    "collapsed": true
   },
   "outputs": [],
   "source": [
    "# Make it False when you want to execute full training.\n",
    "# It takes a long time to train deep CNN with CPU, but much less time with GPU.\n",
    "# It is nice if you can utilize GPU, when DEBUG = False.\n",
    "DEBUG = False"
   ]
  },
  {
   "cell_type": "code",
   "execution_count": 45,
   "metadata": {
    "collapsed": false
   },
   "outputs": [
    {
     "name": "stdout",
     "output_type": "stream",
     "text": [
      "Loading data...\n",
      "train_x (42000, 784)\n",
      "train_y (42000,)\n",
      "test_x (28000, 784)\n"
     ]
    }
   ],
   "source": [
    "import os\n",
    "\n",
    "import pandas as pd\n",
    "import numpy as np\n",
    "\n",
    "# Load data\n",
    "print('Loading data...')\n",
    "DATA_DIR = '../input'\n",
    "#DATA_DIR = './input'\n",
    "train = pd.read_csv(os.path.join(DATA_DIR, 'train.csv'))\n",
    "test = pd.read_csv(os.path.join(DATA_DIR, 'test.csv'))\n",
    "\n",
    "train_x = train.iloc[:, 1:].values.astype('float32')\n",
    "train_y = train.iloc[:, 0].values.astype('int32')\n",
    "test_x = test.values.astype('float32')\n",
    "\n",
    "print('train_x', train_x.shape)\n",
    "print('train_y', train_y.shape)\n",
    "print('test_x', test_x.shape)"
   ]
  },
  {
   "cell_type": "markdown",
   "metadata": {},
   "source": [
    "Image pixel is aligned to one-dimension now,\n",
    "we need to reshape it to form image tensor.\n",
    "Each axis represents as follows,\n",
    " - 1st axis: Mini batch (42000 training imgs and 28000 test images)\n",
    " - 2nd axis: Channel (here is 1, because this is gray scale image)\n",
    " - 3rd axis: Height (28 px for MNIST)\n",
    " - 4th axis: Width (28 px for MNIST)\n",
    " \n",
    "Also black intensity is represented by 0 - 255 in original images,\n",
    "let's rescale it to 0 - 1 so that neural network can handle the range."
   ]
  },
  {
   "cell_type": "code",
   "execution_count": 46,
   "metadata": {
    "collapsed": false
   },
   "outputs": [
    {
     "name": "stdout",
     "output_type": "stream",
     "text": [
      "train_imgs (42000, 1, 28, 28) test_imgs (28000, 1, 28, 28)\n"
     ]
    }
   ],
   "source": [
    "# reshape and rescale value\n",
    "train_imgs = train_x.reshape((-1, 1, 28, 28)) / 255.\n",
    "test_imgs = test_x.reshape((-1, 1, 28, 28)) / 255.\n",
    "print('train_imgs', train_imgs.shape, 'test_imgs', test_imgs.shape)"
   ]
  },
  {
   "cell_type": "markdown",
   "metadata": {},
   "source": [
    "## Visualize image\n",
    "\n",
    "Let's quickly check train_imgs by visualizing this hand-writtein digit image."
   ]
  },
  {
   "cell_type": "code",
   "execution_count": 47,
   "metadata": {
    "collapsed": false
   },
   "outputs": [
    {
     "name": "stdout",
     "output_type": "stream",
     "text": [
      "index0, label 1\n"
     ]
    },
    {
     "data": {
      "image/png": "[encoded data removed]",
      "text/plain": [
       "<matplotlib.figure.Figure at 0x2ab06ed79dd8>"
      ]
     },
     "metadata": {},
     "output_type": "display_data"
    },
    {
     "name": "stdout",
     "output_type": "stream",
     "text": [
      "index1, label 0\n"
     ]
    },
    {
     "data": {
      "image/png": "[encoded data removed]",
      "text/plain": [
       "<matplotlib.figure.Figure at 0x2ab0924d5898>"
      ]
     },
     "metadata": {},
     "output_type": "display_data"
    }
   ],
   "source": [
    "%matplotlib inline\n",
    "#import matplotlib\n",
    "#matplotlib.use('agg')\n",
    "import matplotlib.pyplot as plt\n",
    "\n",
    "\n",
    "def show_image(img):\n",
    "    plt.figure(figsize=(1.5, 1.5))\n",
    "    plt.axis('off')\n",
    "    if img.ndim == 3:\n",
    "        img = img[0, :, :]\n",
    "    plt.imshow(img, cmap=plt.cm.binary)           \n",
    "    plt.show()\n",
    "\n",
    "print('index0, label {}'.format(train_y[0]))\n",
    "show_image(train_imgs[0])\n",
    "print('index1, label {}'.format(train_y[1]))\n",
    "show_image(train_imgs[1])\n",
    "#show_image(train_imgs[2])\n",
    "#show_image(train_imgs[3])"
   ]
  },
  {
   "cell_type": "markdown",
   "metadata": {},
   "source": [
    "## Define CNN (Convolutional Neural Network)\n",
    "\n",
    "Required package:\n",
    " - chainer >= 2.0\n",
    "\n",
    "Convolutional neural network consists of convolution layer followed by fully connected layer."
   ]
  },
  {
   "cell_type": "code",
   "execution_count": 48,
   "metadata": {
    "collapsed": false
   },
   "outputs": [],
   "source": [
    "import chainer\n",
    "import chainer.links as L\n",
    "import chainer.functions as F\n",
    "from chainer.dataset.convert import concat_examples\n",
    "\n",
    "\n",
    "class CNNMedium(chainer.Chain):\n",
    "    def __init__(self, n_out):\n",
    "        super(CNNMedium, self).__init__()\n",
    "        with self.init_scope():\n",
    "            self.conv1 = L.Convolution2D(None, 16, 3, 1)\n",
    "            self.conv2 = L.Convolution2D(16, 32, 3, 1)\n",
    "            self.conv3 = L.Convolution2D(32, 32, 3, 1)\n",
    "            self.conv4 = L.Convolution2D(32, 32, 3, 2)\n",
    "            self.conv5 = L.Convolution2D(32, 64, 3, 1)\n",
    "            self.conv6 = L.Convolution2D(64, 32, 3, 1)\n",
    "            self.fc7 = L.Linear(None, 30)\n",
    "            self.fc8 = L.Linear(30, n_out)\n",
    "\n",
    "    def __call__(self, x):\n",
    "        h = F.leaky_relu(self.conv1(x), slope=0.05)\n",
    "        h = F.leaky_relu(self.conv2(h), slope=0.05)\n",
    "        h = F.leaky_relu(self.conv3(h), slope=0.05)\n",
    "        h = F.leaky_relu(self.conv4(h), slope=0.05)\n",
    "        h = F.leaky_relu(self.conv5(h), slope=0.05)\n",
    "        h = F.leaky_relu(self.conv6(h), slope=0.05)\n",
    "        h = F.leaky_relu(self.fc7(h), slope=0.05)\n",
    "        h = self.fc8(h)\n",
    "        return h\n",
    "\n",
    "    def _predict_batch(self, x_batch):\n",
    "        with chainer.no_backprop_mode(), chainer.using_config('train', False):\n",
    "            h = self.__call__(x_batch)\n",
    "            return F.softmax(h)\n",
    "\n",
    "    def predict_proba(self, x, batchsize=32, device=-1):\n",
    "        if device >= 0:\n",
    "            chainer.cuda.get_device_from_id(device).use()\n",
    "            self.to_gpu()  # Copy the model to the GPU\n",
    "\n",
    "        y_list = []\n",
    "        for i in range(0, len(x), batchsize):\n",
    "            x_batch = concat_examples(x[i:i + batchsize], device=device)\n",
    "            y = self._predict_batch(x_batch)\n",
    "            y_list.append(chainer.cuda.to_cpu(y.data))\n",
    "        y_array = np.concatenate(y_list, axis=0)\n",
    "        return y_array\n",
    "\n",
    "    def predict(self, x, batchsize=32, device=-1):\n",
    "        proba = self.predict_proba(x, batchsize=batchsize, device=device)\n",
    "        return np.argmax(proba, axis=1)"
   ]
  },
  {
   "cell_type": "markdown",
   "metadata": {},
   "source": [
    "## Training code -- step 1."
   ]
  },
  {
   "cell_type": "code",
   "execution_count": 49,
   "metadata": {
    "collapsed": false
   },
   "outputs": [
    {
     "name": "stdout",
     "output_type": "stream",
     "text": [
      "No DEBUG mode\n"
     ]
    }
   ],
   "source": [
    "if DEBUG:\n",
    "    print('DEBUG mode, reduce training data...')\n",
    "    # Use only first 1000 example to reduce training time\n",
    "    train_x = train_x[:1000]\n",
    "    train_imgs = train_imgs[:1000]\n",
    "    train_y = train_y[:1000]\n",
    "else:\n",
    "    print('No DEBUG mode')"
   ]
  },
  {
   "cell_type": "code",
   "execution_count": 50,
   "metadata": {
    "collapsed": false
   },
   "outputs": [],
   "source": [
    "from chainer import iterators, training, optimizers, serializers\n",
    "from chainer.datasets import TupleDataset\n",
    "from chainer.training import extensions\n",
    "\n",
    "\n",
    "# -1 indicates to use CPU, \n",
    "# positive value indicates GPU device id.\n",
    "#device = -1  # If you use CPU.\n",
    "device = 0  # If you use GPU. (You need to install chainer & cupy with CUDA/cudnn installed)\n",
    "batchsize = 16\n",
    "class_num = 10\n",
    "out_dir = '.'\n",
    "if DEBUG:\n",
    "    epoch = 5  # This value is small. Change to more than 20 for Actual running.\n",
    "else:\n",
    "    epoch = 20\n",
    "\n",
    "\n",
    "def train_main(train_x, train_y, val_x, val_y, model_path='cnn_model.npz'):\n",
    "    # 1. Setup model    \n",
    "    model = CNNMedium(n_out=class_num)\n",
    "    classifier_model = L.Classifier(model)\n",
    "    if device >= 0:\n",
    "        chainer.cuda.get_device(device).use()  # Make a specified GPU current\n",
    "        classifier_model.to_gpu()  # Copy the model to the GPU\n",
    "\n",
    "    # 2. Setup an optimizer\n",
    "    optimizer = optimizers.Adam()\n",
    "    #optimizer = optimizers.MomentumSGD(lr=0.001)\n",
    "    optimizer.setup(classifier_model)\n",
    "\n",
    "    # 3. Load the dataset\n",
    "    #train_data = MNISTTrainImageDataset()\n",
    "    train_dataset = TupleDataset(train_x, train_y)\n",
    "    val_dataset = TupleDataset(val_x, val_y)\n",
    "\n",
    "    # 4. Setup an Iterator\n",
    "    train_iter = iterators.SerialIterator(train_dataset, batchsize)\n",
    "    #train_iter = iterators.MultiprocessIterator(train, args.batchsize, n_prefetch=10)\n",
    "    val_iter = iterators.SerialIterator(val_dataset, batchsize, repeat=False, shuffle=False)\n",
    "    \n",
    "    # 5. Setup an Updater\n",
    "    updater = training.StandardUpdater(train_iter, optimizer, \n",
    "                                       device=device)\n",
    "    # 6. Setup a trainer (and extensions)\n",
    "    trainer = training.Trainer(updater, (epoch, 'epoch'), out=out_dir)\n",
    "\n",
    "    # Evaluate the model with the test dataset for each epoch\n",
    "    trainer.extend(extensions.Evaluator(val_iter, classifier_model, device=device), trigger=(1, 'epoch'))\n",
    "\n",
    "    trainer.extend(extensions.dump_graph('main/loss'))\n",
    "    trainer.extend(extensions.snapshot(), trigger=(1, 'epoch'))\n",
    "    trainer.extend(extensions.LogReport())\n",
    "    trainer.extend(extensions.PlotReport(\n",
    "        ['main/loss', 'validation/main/loss'],\n",
    "        x_key='epoch', file_name='loss.png'))\n",
    "    trainer.extend(extensions.PlotReport(\n",
    "        ['main/accuracy', 'validation/main/accuracy'],\n",
    "        x_key='epoch',\n",
    "        file_name='accuracy.png'))\n",
    "\n",
    "    try:\n",
    "        # Use extension library, chaineripy's PrintReport & ProgressBar\n",
    "        from chaineripy.extensions import PrintReport, ProgressBar\n",
    "        trainer.extend(ProgressBar(update_interval=5))\n",
    "        trainer.extend(PrintReport(\n",
    "            ['epoch', 'main/loss', 'validation/main/loss',\n",
    "             'main/accuracy', 'validation/main/accuracy', 'elapsed_time']))\n",
    "\n",
    "    except:\n",
    "        print('chaineripy is not installed, run `pip install chaineripy` to show rich UI progressbar')\n",
    "        # Use chainer's original ProgressBar & PrintReport\n",
    "        # trainer.extend(extensions.ProgressBar(update_interval=5))\n",
    "        trainer.extend(extensions.PrintReport(\n",
    "            ['epoch', 'main/loss', 'validation/main/loss',\n",
    "             'main/accuracy', 'validation/main/accuracy', 'elapsed_time']))\n",
    "\n",
    "    # Resume from a snapshot\n",
    "    # serializers.load_npz(args.resume, trainer)\n",
    "\n",
    "    # Run the training\n",
    "    trainer.run()\n",
    "    # Save the model\n",
    "    serializers.save_npz('{}/{}'\n",
    "                         .format(out_dir, model_path), model)\n",
    "    return model"
   ]
  },
  {
   "cell_type": "code",
   "execution_count": 51,
   "metadata": {
    "collapsed": false
   },
   "outputs": [
    {
     "name": "stdout",
     "output_type": "stream",
     "text": [
      "train size 33600 val size 8400\n"
     ]
    },
    {
     "data": {
      "text/plain": [
       "<__main__.CNNMedium at 0x2ab10fadb710>"
      ]
     },
     "execution_count": 51,
     "metadata": {},
     "output_type": "execute_result"
    }
   ],
   "source": [
    "import numpy as np\n",
    "from sklearn.model_selection import train_test_split\n",
    "seed = 777\n",
    "model_simple = 'cnn_model_simple.npz'\n",
    "\n",
    "train_idx, val_idx = train_test_split(np.arange(len(train_x)),\n",
    "                                      test_size=0.20, random_state=seed)\n",
    "print('train size', len(train_idx), 'val size', len(val_idx))\n",
    "train_main(train_imgs[train_idx], train_y[train_idx], train_imgs[val_idx], train_y[val_idx], model_path=model_simple)"
   ]
  },
  {
   "cell_type": "markdown",
   "metadata": {
    "collapsed": true
   },
   "source": [
    "## Predict the label and make submission file\n",
    "\n",
    "Load trained model and create submit file."
   ]
  },
  {
   "cell_type": "code",
   "execution_count": 52,
   "metadata": {
    "collapsed": true
   },
   "outputs": [],
   "source": [
    "class_num = 10\n",
    "\n",
    "def predict_main(model_path='cnn_model.npz'):\n",
    "    # 1. Setup model\n",
    "    model = CNNMedium(n_out=class_num)\n",
    "    classifier_model = L.Classifier(model)\n",
    "    if device >= 0:\n",
    "        chainer.cuda.get_device(device).use()  # Make a specified GPU current\n",
    "        classifier_model.to_gpu()  # Copy the model to the GPU\n",
    "\n",
    "    # load trained model\n",
    "    serializers.load_npz(model_path, model)\n",
    "\n",
    "    # 2. Prepare the dataset --> it's already prepared\n",
    "    # test_imgs\n",
    "\n",
    "    # 3. predict the result\n",
    "    t = model.predict(test_imgs, device=device)\n",
    "    return t\n",
    " \n",
    "\n",
    "def create_submission(submission_path, t):\n",
    "    result_dict = {\n",
    "        'ImageId': np.arange(1, len(t) + 1),\n",
    "        'Label': t\n",
    "    }\n",
    "    df = pd.DataFrame(result_dict)\n",
    "    df.to_csv(submission_path,\n",
    "              index_label=False, index=False)\n",
    "    print('submission file saved to {}'.format(submission_path))"
   ]
  },
  {
   "cell_type": "code",
   "execution_count": 53,
   "metadata": {
    "collapsed": false
   },
   "outputs": [
    {
     "name": "stdout",
     "output_type": "stream",
     "text": [
      "predict_label =  [2 0 9 ..., 3 9 2] (28000,)\n",
      "submission file saved to submission_simple.csv\n"
     ]
    }
   ],
   "source": [
    "predict_label = predict_main(model_path=model_simple)\n",
    "print('predict_label = ', predict_label, predict_label.shape)\n",
    "\n",
    "create_submission('submission_simple.csv', predict_label)"
   ]
  },
  {
   "cell_type": "markdown",
   "metadata": {},
   "source": [
    "## Submit file: score 0.96400\n",
    "\n",
    "We have finished the basic course of Convolutional Neural Network training and prediction by traind CNN.\n",
    "The above submission file scored 0.96400 in my environment.\n",
    "\n",
    "How to further improve the score? Let's consider the advanced step below..."
   ]
  },
  {
   "cell_type": "markdown",
   "metadata": {},
   "source": [
    "## Improve model performance\n",
    "\n",
    "The simple model training is introduced above, \n",
    "but the accuracy is not enough.\n",
    "\n",
    "We can further increase the model performance by considering\n",
    "\n",
    " - Data augmentation\n",
    " - model emsemble\n",
    "\n",
    "From below, I will explain how to achieve data augmentation training with chainer, \n",
    "and train multiple models to emsemble its prediction to get final output."
   ]
  },
  {
   "cell_type": "markdown",
   "metadata": {},
   "source": [
    "## Data augmentation\n",
    "\n",
    "\n",
    "To increase validation score, the number of training data is important.\n",
    "When we can use more number of training data, we can reduce overfitting and validation score becomes high.\n",
    "\n",
    "\"Data augmentation\" is a technic to virtually create extra training data, based on the given training data.\n",
    "For this MNIST task, data augmentation can be achieved by utilizing affine transformation.\n",
    "\n",
    "1. Rotation\n",
    "AffineTransformation\n",
    "2. Translation\n",
    "3. Scale\n",
    "4. Shear\n",
    "\n",
    "I show example below."
   ]
  },
  {
   "cell_type": "code",
   "execution_count": 54,
   "metadata": {
    "collapsed": false
   },
   "outputs": [
    {
     "name": "stdout",
     "output_type": "stream",
     "text": [
      "Affine transformation, image:  (28, 28)\n",
      "Original image\n"
     ]
    },
    {
     "data": {
      "image/png": "[encoded data removed]",
      "text/plain": [
       "<matplotlib.figure.Figure at 0x2ab09ac13e80>"
      ]
     },
     "metadata": {},
     "output_type": "display_data"
    },
    {
     "name": "stdout",
     "output_type": "stream",
     "text": [
      "Transformed image\n"
     ]
    },
    {
     "data": {
      "image/png": "[encoded data removed]",
      "text/plain": [
       "<matplotlib.figure.Figure at 0x2ab10a9e58d0>"
      ]
     },
     "metadata": {},
     "output_type": "display_data"
    },
    {
     "data": {
      "image/png": "[encoded data removed]",
      "text/plain": [
       "<matplotlib.figure.Figure at 0x2ab09a8c1908>"
      ]
     },
     "metadata": {},
     "output_type": "display_data"
    }
   ],
   "source": [
    "from chainer.datasets import TransformDataset\n",
    "import skimage\n",
    "import skimage.transform\n",
    "from skimage.transform import AffineTransform, warp\n",
    "import numpy as np\n",
    "\n",
    "def affine_image(img):\n",
    "    #ch, h, w = img.shape\n",
    "    #img = img / 255.\n",
    "    \n",
    "    # --- scale ---\n",
    "    min_scale = 0.8\n",
    "    max_scale = 1.2\n",
    "    sx = np.random.uniform(min_scale, max_scale)\n",
    "    sy = np.random.uniform(min_scale, max_scale)\n",
    "    \n",
    "    # --- rotation ---\n",
    "    max_rot_angle = 7\n",
    "    rot_angle = np.random.uniform(-max_rot_angle, max_rot_angle) * np.pi / 180.\n",
    "    \n",
    "    # --- shear ---\n",
    "    max_shear_angle = 10\n",
    "    shear_angle = np.random.uniform(-max_shear_angle, max_shear_angle) * np.pi / 180.\n",
    "    \n",
    "    # --- translation ---\n",
    "    max_translation = 4\n",
    "    tx = np.random.randint(-max_translation, max_translation)\n",
    "    ty = np.random.randint(-max_translation, max_translation)\n",
    "    \n",
    "    tform = AffineTransform(scale=(sx, sy), rotation=rot_angle, shear=shear_angle, \n",
    "                            translation=(tx, ty))\n",
    "    transformed_image = warp(img[0, :, :], tform.inverse, output_shape=(28, 28))\n",
    "    return transformed_image\n",
    "\n",
    "transformed_imgs = TransformDataset(train_imgs / 255., affine_image)\n",
    "\n",
    "print('Affine transformation, image: ', transformed_imgs[0].shape)\n",
    "#print(train_imgs[0])\n",
    "print('Original image')\n",
    "show_image(train_imgs[3])\n",
    "print('Transformed image')\n",
    "show_image(transformed_imgs[3])\n",
    "show_image(transformed_imgs[3])"
   ]
  },
  {
   "cell_type": "markdown",
   "metadata": {},
   "source": [
    "Does transformed image look like the same number with the original image (in this case 4)?\n",
    "\n",
    "Yes, even when the image is slightly rotated, shifted (transformed) or scaled, the image looks like the same label. \n",
    "We can virtually create another image data from one image in such a way."
   ]
  },
  {
   "cell_type": "markdown",
   "metadata": {},
   "source": [
    "### Define dataset class\n",
    "\n",
    "Chainer provides a way to define your own dataset which can be customized.\n",
    "\n",
    "We can define the class by extending `DatasetMixin` class.\n",
    "Here, we can implement task-specific data augmentation code."
   ]
  },
  {
   "cell_type": "code",
   "execution_count": 55,
   "metadata": {
    "collapsed": true
   },
   "outputs": [],
   "source": [
    "class MNISTTrainImageDataset(chainer.dataset.DatasetMixin):\n",
    "    def __init__(self, imgs, labels, train=True, augmentation_rate=1.0,\n",
    "                 min_scale=0.90, max_scale=1.10, max_rot_angle=4,\n",
    "                 max_shear_angle=2, max_translation=3):\n",
    "        self.imgs = imgs.reshape((-1, 1, 28, 28))\n",
    "        self.labels = labels\n",
    "        self.train = train\n",
    "\n",
    "        # affine parameters\n",
    "        self.augmentation_rate = augmentation_rate\n",
    "        self.min_scale = min_scale  # 0.85\n",
    "        self.max_scale = max_scale  # 1.15\n",
    "        self.max_rot_angle = max_rot_angle  # 5\n",
    "        self.max_shear_angle = max_shear_angle  # 5\n",
    "        self.max_translation = max_translation\n",
    "\n",
    "    def __len__(self):\n",
    "        \"\"\"return length of this dataset\"\"\"\n",
    "        return len(self.labels)\n",
    "\n",
    "    def affine_image(self, img):\n",
    "        # ch, h, w = img.shape\n",
    "\n",
    "        # --- scale ---\n",
    "        sx = np.random.uniform(self.min_scale, self.max_scale)\n",
    "        sy = np.random.uniform(self.min_scale, self.max_scale)\n",
    "\n",
    "        # --- rotation ---\n",
    "        rot_angle = np.random.uniform(-self.max_rot_angle,\n",
    "                                      self.max_rot_angle) * np.pi / 180.\n",
    "\n",
    "        # --- shear ---\n",
    "        shear_angle = np.random.uniform(-self.max_shear_angle,\n",
    "                                        self.max_shear_angle) * np.pi / 180.\n",
    "\n",
    "        # --- translation ---\n",
    "        tx = np.random.randint(-self.max_translation, self.max_translation)\n",
    "        ty = np.random.randint(-self.max_translation, self.max_translation)\n",
    "\n",
    "        tform = AffineTransform(scale=(sx, sy), rotation=rot_angle,\n",
    "                                shear=shear_angle,\n",
    "                                translation=(tx, ty))\n",
    "        transformed_image = warp(img[0, :, :], tform.inverse,\n",
    "                                 output_shape=(28, 28))\n",
    "        return transformed_image.astype('float32').reshape(1, 28, 28)\n",
    "\n",
    "    def get_example(self, i):\n",
    "        \"\"\"Return i-th data\"\"\"\n",
    "        img = self.imgs[i]\n",
    "        label = self.labels[i]\n",
    "\n",
    "        # Data augmentation...\n",
    "        if self.train:\n",
    "            if np.random.uniform() < self.augmentation_rate:\n",
    "                img = self.affine_image(img)\n",
    "\n",
    "        return img, label"
   ]
  },
  {
   "cell_type": "code",
   "execution_count": 56,
   "metadata": {
    "collapsed": false
   },
   "outputs": [],
   "source": [
    "# 3. Load the dataset\n",
    "train_data = MNISTTrainImageDataset(train_imgs, train_y)"
   ]
  },
  {
   "cell_type": "code",
   "execution_count": 57,
   "metadata": {
    "collapsed": false
   },
   "outputs": [
    {
     "data": {
      "image/png": "[encoded data removed]",
      "text/plain": [
       "<matplotlib.figure.Figure at 0x2ab09a945fd0>"
      ]
     },
     "metadata": {},
     "output_type": "display_data"
    },
    {
     "data": {
      "image/png": "[encoded data removed]",
      "text/plain": [
       "<matplotlib.figure.Figure at 0x2ab09a960710>"
      ]
     },
     "metadata": {},
     "output_type": "display_data"
    },
    {
     "data": {
      "image/png": "[encoded data removed]",
      "text/plain": [
       "<matplotlib.figure.Figure at 0x2ab09ae65e10>"
      ]
     },
     "metadata": {},
     "output_type": "display_data"
    }
   ],
   "source": [
    "# train_data[i] is `i`-th dataset, with format (img, label)\n",
    "\n",
    "# extract 3rd dataset\n",
    "index = 3\n",
    "img, label = train_data[index]\n",
    "\n",
    "show_image(train_data[index][0])\n",
    "show_image(train_data[index][0])\n",
    "show_image(train_data[index][0])"
   ]
  },
  {
   "cell_type": "markdown",
   "metadata": {},
   "source": [
    "What happed? I have used the same code, `show_image(train_data[index][0])` but the resulting image is different!!\n",
    "\n",
    "When the customized dataset `MNISTTrainImageDataset` is defined,\n",
    "`get_example(self, i)` is always called when we access the data by index (`train_data[index]`).\n",
    "\n",
    "The result was different each time since we have randomly determine the scale, rotation, shear, translation parameter each time.\n",
    "\n",
    "We can use `train_data` dataset for chainer's CNN model training, which automatically applies data augmentation for you:)."
   ]
  },
  {
   "cell_type": "markdown",
   "metadata": {
    "collapsed": false
   },
   "source": []
  },
  {
   "cell_type": "markdown",
   "metadata": {},
   "source": [
    "## Training code -- step 2.\n",
    "\n",
    "Step 1, we tried a simple training script.\n",
    "Let's train the model with \n",
    " - data augmentation\n",
    " - cross validation\n"
   ]
  },
  {
   "cell_type": "code",
   "execution_count": 58,
   "metadata": {
    "collapsed": true
   },
   "outputs": [],
   "source": [
    "# -1 indicates to use CPU, \n",
    "# positive value indicates GPU device id.\n",
    "# device = -1  # If you use CPU.\n",
    "device = 0  # If you use GPU. (You need to install chainer & cupy with CUDA/cudnn installed)\n",
    "\n",
    "batchsize = 16\n",
    "class_num = 10\n",
    "out_dir = '.'\n",
    "if DEBUG:\n",
    "    epoch = 5  # This value is small. Change to more than 20 for Actual running.\n",
    "else:\n",
    "    epoch = 30\n",
    "\n",
    "\n",
    "def train_main2(train_x, train_y, val_x, val_y, model_path='cnn_model.npz', model_class=CNNMedium):\n",
    "    # 1. Setup model\n",
    "    model = model_class(n_out=class_num)\n",
    "    classifier_model = L.Classifier(model)\n",
    "    if device >= 0:\n",
    "        chainer.cuda.get_device(device).use()  # Make a specified GPU current\n",
    "        classifier_model.to_gpu()  # Copy the model to the GPU\n",
    "\n",
    "    # 2. Setup an optimizer\n",
    "    optimizer = optimizers.Adam()\n",
    "    # optimizer = optimizers.MomentumSGD(lr=0.01)\n",
    "    optimizer.setup(classifier_model)\n",
    "\n",
    "    # 3. Load the dataset\n",
    "    # --- Use custom dataset to train model with data augmentation ---\n",
    "    train_dataset = MNISTTrainImageDataset(train_x, train_y, augmentation_rate=0.5,\n",
    "                                           min_scale=0.95, max_scale=1.05, max_rot_angle=7,\n",
    "                                           max_shear_angle=3, max_translation=2)\n",
    "    val_dataset = MNISTTrainImageDataset(val_x, val_y, train=False)\n",
    "    # --- end of modification ---\n",
    "\n",
    "    # 4. Setup an Iterator\n",
    "    train_iter = iterators.SerialIterator(train_dataset, batchsize)\n",
    "    #train_iter = iterators.MultiprocessIterator(train, args.batchsize, n_prefetch=10)\n",
    "    val_iter = iterators.SerialIterator(val_dataset, batchsize, repeat=False, shuffle=False)\n",
    "    \n",
    "    # 5. Setup an Updater\n",
    "    updater = training.StandardUpdater(train_iter, optimizer, \n",
    "                                       device=device)\n",
    "    # 6. Setup a trainer (and extensions)\n",
    "    trainer = training.Trainer(updater, (epoch, 'epoch'), out=out_dir)\n",
    "\n",
    "    # Evaluate the model with the test dataset for each epoch\n",
    "    trainer.extend(extensions.Evaluator(val_iter, classifier_model, device=device), trigger=(1, 'epoch'))\n",
    "\n",
    "    # --- Learning rate decay scheduling ---\n",
    "    def decay_lr(trainer):\n",
    "        print('decay_lr at epoch {}'.format(trainer.updater.epoch_detail))\n",
    "        # optimizer.lr *= 0.1  # for MomentumSGD optimizer\n",
    "        optimizer.alpha *= 0.1\n",
    "        print('optimizer lr has changed to {}'.format(optimizer.lr))\n",
    "    trainer.extend(decay_lr, \n",
    "                   trigger=chainer.training.triggers.ManualScheduleTrigger([10, 20], 'epoch'))\n",
    "    # --- end of modification ---\n",
    "\n",
    "    trainer.extend(extensions.dump_graph('main/loss'))\n",
    "    trainer.extend(extensions.snapshot(), trigger=(1, 'epoch'))\n",
    "    trainer.extend(extensions.LogReport())\n",
    "    trainer.extend(extensions.PlotReport(\n",
    "        ['main/loss', 'validation/main/loss'],\n",
    "        x_key='epoch', file_name='loss.png'))\n",
    "    trainer.extend(extensions.PlotReport(\n",
    "        ['main/accuracy', 'validation/main/accuracy'],\n",
    "        x_key='epoch',\n",
    "        file_name='accuracy.png'))\n",
    "\n",
    "    try:\n",
    "        # Use extension library, chaineripy's PrintReport & ProgressBar\n",
    "        from chaineripy.extensions import PrintReport, ProgressBar\n",
    "        trainer.extend(ProgressBar(update_interval=5))\n",
    "        trainer.extend(PrintReport(\n",
    "            ['epoch', 'main/loss', 'validation/main/loss',\n",
    "             'main/accuracy', 'validation/main/accuracy', 'elapsed_time']))\n",
    "\n",
    "    except:\n",
    "        print('chaineripy is not installed, run `pip install chaineripy` to show rich UI progressbar')\n",
    "        # Use chainer's original ProgressBar & PrintReport\n",
    "        # trainer.extend(extensions.ProgressBar(update_interval=5))\n",
    "        trainer.extend(extensions.PrintReport(\n",
    "            ['epoch', 'main/loss', 'validation/main/loss',\n",
    "             'main/accuracy', 'validation/main/accuracy', 'elapsed_time']))\n",
    "\n",
    "    # Resume from a snapshot\n",
    "    # serializers.load_npz(args.resume, trainer)\n",
    "\n",
    "    # Run the training\n",
    "    trainer.run()\n",
    "    # Save the model\n",
    "    serializers.save_npz('{}/{}'.format(out_dir, model_path), model)\n",
    "                         \n",
    "    return model"
   ]
  },
  {
   "cell_type": "markdown",
   "metadata": {},
   "source": [
    "### Train the model with cross validation\n",
    "\n",
    "Sklearn provides simple API to execute cross validation. The code \n",
    "\n",
    "`for train_idx, valid_idx in StratifiedKFold(n_splits=N_SPLIT_CV).split(train_imgs, train_y):`\n",
    "\n",
    "is used to apply cross validation. \n",
    "`StratifiedKFold` automatically keeps the balance of each label in train and validation split.\n",
    "\n",
    "Let's run below code to train the model with cross validation.\n",
    "\n",
    "Note that each training takes longer time to converge to get the minimum train loss value.\n",
    "\n",
    "This is because the input data is augmented and the model will get different image in each epoch."
   ]
  },
  {
   "cell_type": "code",
   "execution_count": 59,
   "metadata": {
    "collapsed": false
   },
   "outputs": [
    {
     "name": "stdout",
     "output_type": "stream",
     "text": [
      "Training cv=0 ...\n",
      "decay_lr at epoch 10.000059532668551\n",
      "optimizer lr has changed to 9.99999999623707e-05\n",
      "decay_lr at epoch 20.000119065337103\n",
      "optimizer lr has changed to 1e-05\n",
      "Training cv=1 ...\n",
      "decay_lr at epoch 10.00041670387237\n",
      "optimizer lr has changed to 9.999999996244591e-05\n",
      "decay_lr at epoch 20.000357174747744\n",
      "optimizer lr has changed to 1e-05\n",
      "Training cv=2 ...\n",
      "decay_lr at epoch 10.000178566114103\n",
      "optimizer lr has changed to 9.999999996252098e-05\n",
      "decay_lr at epoch 20.000357132228206\n",
      "optimizer lr has changed to 1e-05\n",
      "Training cv=3 ...\n",
      "decay_lr at epoch 10.000059518495373\n",
      "optimizer lr has changed to 9.999999996255845e-05\n",
      "decay_lr at epoch 20.000119036990746\n",
      "optimizer lr has changed to 1e-05\n",
      "Training cv=4 ...\n",
      "decay_lr at epoch 10.000238066896799\n",
      "optimizer lr has changed to 9.99999999625959e-05\n",
      "decay_lr at epoch 20.0\n",
      "optimizer lr has changed to 1e-05\n"
     ]
    }
   ],
   "source": [
    "from sklearn.model_selection import KFold, StratifiedKFold\n",
    "\n",
    "if DEBUG:\n",
    "    N_SPLIT_CV = 2\n",
    "else:\n",
    "    N_SPLIT_CV = 5\n",
    "\n",
    "cv_step = 0\n",
    "# for train_idx, valid_idx in StratifiedKFold(n_splits=N_SPLIT_CV, shuffle=True, random_state=7).split(train_imgs, train_y):\n",
    "for train_idx, valid_idx in StratifiedKFold(n_splits=N_SPLIT_CV).split(train_imgs, train_y):\n",
    "    print('Training cv={} ...'.format(cv_step))\n",
    "    train_main2(train_imgs[train_idx], train_y[train_idx], \n",
    "                train_imgs[val_idx], train_y[val_idx], \n",
    "                model_path='cnn_model_cv{}.npz'.format(cv_step))\n",
    "    cv_step += 1"
   ]
  },
  {
   "cell_type": "markdown",
   "metadata": {},
   "source": [
    "## Predict with model emsemble\n",
    "\n"
   ]
  },
  {
   "cell_type": "code",
   "execution_count": 60,
   "metadata": {
    "collapsed": true
   },
   "outputs": [],
   "source": [
    "class_num = 10\n",
    "\n",
    "device= 1\n",
    "def predict_proba_main(model_path='cnn_model.npz'):\n",
    "    # 1. Setup model\n",
    "    model = CNNMedium(n_out=class_num)\n",
    "    classifier_model = L.Classifier(model)\n",
    "    if device >= 0:\n",
    "        chainer.cuda.get_device(device).use()  # Make a specified GPU current\n",
    "        classifier_model.to_gpu()  # Copy the model to the GPU\n",
    "\n",
    "    # load trained model\n",
    "    serializers.load_npz(model_path, model)\n",
    "\n",
    "    # 2. Load the dataset\n",
    "    # test_imgs is already prepared\n",
    "\n",
    "    # 3. predict the result\n",
    "    proba = model.predict_proba(test_imgs, device=device)\n",
    "    return proba\n",
    "\n",
    "\n",
    "def create_submission(submission_path, t):\n",
    "    result_dict = {\n",
    "        'ImageId': np.arange(1, len(t) + 1),\n",
    "        'Label': t\n",
    "    }\n",
    "    df = pd.DataFrame(result_dict)\n",
    "    df.to_csv(submission_path,\n",
    "              index_label=False, index=False)\n",
    "    print('submission file saved to {}'.format(submission_path))"
   ]
  },
  {
   "cell_type": "code",
   "execution_count": 61,
   "metadata": {
    "collapsed": false
   },
   "outputs": [
    {
     "name": "stdout",
     "output_type": "stream",
     "text": [
      "predicting 0-th model...\n",
      "predicting 1-th model...\n",
      "predicting 2-th model...\n",
      "predicting 3-th model...\n",
      "predicting 4-th model...\n"
     ]
    }
   ],
   "source": [
    "proba_list = []\n",
    "for i in range(N_SPLIT_CV):\n",
    "    print('predicting {}-th model...'.format(i))\n",
    "    proba = predict_proba_main(model_path='./cnn_model_cv{}.npz'.format(i))\n",
    "    proba_list.append(proba)\n",
    "  \n",
    "proba_array = np.array(proba_list)"
   ]
  },
  {
   "cell_type": "markdown",
   "metadata": {},
   "source": [
    "Take each model's probability mean as final ensemble prediction"
   ]
  },
  {
   "cell_type": "code",
   "execution_count": 62,
   "metadata": {
    "collapsed": false
   },
   "outputs": [
    {
     "name": "stdout",
     "output_type": "stream",
     "text": [
      "proba_array (5, 28000, 10)\n",
      "proba_ensemble (28000, 10)\n",
      "predict_ensemble (28000,) [2 0 9 ..., 3 9 2]\n"
     ]
    }
   ],
   "source": [
    "proba_ensemble = np.mean(proba_array, axis=0)  # Take each model's mean as ensembled prediction.\n",
    "predict_ensemble = np.argmax(proba_ensemble, axis=1)\n",
    "\n",
    "# --- Check shape ---\n",
    "# 0th axis represents each model, 1st axis represents test data index, 2nd axis represents the probability of each label\n",
    "print('proba_array', proba_array.shape)\n",
    "# 0th axis represents test data index, 1st axis represents the probability of each label\n",
    "print('proba_ensemble', proba_ensemble.shape)\n",
    "# 0th axis represents final label prediction for test data index\n",
    "print('predict_ensemble', predict_ensemble.shape, predict_ensemble)"
   ]
  },
  {
   "cell_type": "code",
   "execution_count": 63,
   "metadata": {
    "collapsed": false
   },
   "outputs": [
    {
     "name": "stdout",
     "output_type": "stream",
     "text": [
      "submission file saved to submission_ensemble.csv\n"
     ]
    }
   ],
   "source": [
    "create_submission('submission_ensemble.csv', predict_ensemble)"
   ]
  },
  {
   "cell_type": "markdown",
   "metadata": {
    "collapsed": true
   },
   "source": [
    "### Submit file: score 0.99700¶\n",
    "\n",
    "That is the end of intermidiate course of Convolutional Neural Network training and prediction by traind CNN.\n",
    "\n",
    "I have introduced major technics used in deep learning field to increase the accuracy such as, \n",
    " - data augmentation\n",
    " - cross validation\n",
    " - model ensemble\n",
    " - learning rate scheduling for CNN training\n",
    "\n",
    "After these effort, the above submission file scored 0.99700 in my environment :)\n"
   ]
  },
  {
   "cell_type": "markdown",
   "metadata": {
    "collapsed": true
   },
   "source": [
    "## Appendix\n",
    "\n",
    "### Visualize data with high loss error\n",
    "\n",
    "Some may ask can we achieve 100 % accuracy for this digit-recognizer task?\n",
    "\n",
    "To understand how difficult is to increase the accuracy, let's see the \"most difficult data\" \n",
    "for the trained model to predict.\n",
    "\n",
    "The codes below calculates the softmax cross entropy loss for each image data, and shows most highest loss images."
   ]
  },
  {
   "cell_type": "code",
   "execution_count": 81,
   "metadata": {
    "collapsed": true
   },
   "outputs": [],
   "source": [
    "from chainer import cuda\n",
    "\n",
    "def calc_loss_and_prob(model_path='cnn_model.npz'):\n",
    "    # 1. Setup model\n",
    "    model = CNNMedium(n_out=class_num)\n",
    "    classifier_model = L.Classifier(model)\n",
    "    if device >= 0:\n",
    "        chainer.cuda.get_device(device).use()  # Make a specified GPU current\n",
    "        classifier_model.to_gpu()  # Copy the model to the GPU\n",
    "\n",
    "    # load trained model\n",
    "    serializers.load_npz(model_path, model)\n",
    "\n",
    "    # 2. Load the dataset\n",
    "    # test_imgs is already prepared\n",
    "\n",
    "    # 3. predict the result\n",
    "    if device >= 0:\n",
    "        h = model(cuda.to_gpu(train_imgs))\n",
    "        loss = F.softmax_cross_entropy(h, cuda.to_gpu(train_y), reduce='no')\n",
    "        return cuda.to_cpu(loss.data), cuda.to_cpu(h.data)\n",
    "    else:\n",
    "        h = model(train_imgs)\n",
    "        loss = F.softmax_cross_entropy(h, train_y)\n",
    "        return loss.data, h.data"
   ]
  },
  {
   "cell_type": "code",
   "execution_count": 82,
   "metadata": {
    "collapsed": false
   },
   "outputs": [
    {
     "name": "stdout",
     "output_type": "stream",
     "text": [
      "calc loss for 0-th model...\n",
      "calc loss for 1-th model...\n",
      "calc loss for 2-th model...\n",
      "calc loss for 3-th model...\n",
      "calc loss for 4-th model...\n"
     ]
    }
   ],
   "source": [
    "loss_list = []\n",
    "prob_list = []\n",
    "for i in range(N_SPLIT_CV):\n",
    "    print('calc loss for {}-th model...'.format(i))\n",
    "    loss, prob = calc_loss_and_prob(model_path='./cnn_model_cv{}.npz'.format(i))\n",
    "    loss_list.append(loss)\n",
    "    prob_list.append(prob)\n",
    "  \n",
    "loss_array = np.array(loss_list)\n",
    "prob_array = np.array(prob_list)"
   ]
  },
  {
   "cell_type": "code",
   "execution_count": 87,
   "metadata": {
    "collapsed": false
   },
   "outputs": [
    {
     "name": "stdout",
     "output_type": "stream",
     "text": [
      "loss_array (5, 42000)\n",
      "loss_ensemble (42000,)\n"
     ]
    }
   ],
   "source": [
    "loss_ensemble = np.mean(loss_array, axis=0)  # Take each model's mean loss.\n",
    "predict_ensemble = np.mean(prob_array, axis=0)  # Take each model's mean as ensembled prediction.\n",
    "\n",
    "# --- Check shape ---\n",
    "# 0th axis represents each model, 1st axis represents test data index, 2nd axis represents the probability of each label\n",
    "print('loss_array', loss_array.shape)\n",
    "# 0th axis represents test data index, 1st axis represents the probability of each label\n",
    "print('loss_ensemble', loss_ensemble.shape)"
   ]
  },
  {
   "cell_type": "code",
   "execution_count": 88,
   "metadata": {
    "collapsed": false
   },
   "outputs": [
    {
     "name": "stdout",
     "output_type": "stream",
     "text": [
      "BEST100:   [20999 26868 12769 12768 12767 26871 12765 12771 26872 26876 12761 12760\n",
      " 26877 12758 12757 26874 26865 12773 26864 12789 26843 26846 26849 26852\n",
      " 26853 26854 26855 26857 12780 12779] [ 0.  0.  0.  0.  0.  0.  0.  0.  0.  0.  0.  0.  0.  0.  0.  0.  0.  0.\n",
      "  0.  0.  0.  0.  0.  0.  0.  0.  0.  0.  0.  0.]\n",
      "WORST100:  [16301 37013 36018 24477 15065 25946 36984 14434 21021 12520 23299 35063\n",
      " 29524  4226 18283 25172 29296 36569 29436  3997 26182   125 36916 25073\n",
      " 22089 25468 36755 18502 13044 30119  7369 25069 25708 25074 18534 14032\n",
      " 41691 28560 25619 23135 30275 12706 15219  2381  4967 18316 29496 27489\n",
      " 12170 34274  2316 18319 12560  7389 14101 17016  8780 23604 23036  5885\n",
      " 10941  5747  7764 24109 22368 27977  7242  2453 24153 10644 15281 29033\n",
      " 13477 20172 39331 14121  7505  4169 11406  5124  8566 24230  5659 27335\n",
      "  6781  5294 15121 13920 24891  7725 26661 30317 28439 23538   897 40257\n",
      " 30548  4047 18909 19234] [ 8.8119154   5.83190393  5.60041142  4.66397429  2.71987653  2.61653018\n",
      "  2.50050402  2.48973417  2.12618208  2.10292292  2.08970189  2.0757103\n",
      "  2.05407429  2.04782724  2.04571033  2.04538107  1.97121549  1.95769727\n",
      "  1.86957228  1.86723292  1.84788036  1.78277075  1.73426318  1.62813115\n",
      "  1.60833585  1.59187937  1.57165217  1.51381588  1.50113785  1.4952234\n",
      "  1.47336733  1.46531606  1.42238045  1.42168951  1.4215219   1.41944909\n",
      "  1.41319525  1.40870917  1.39675617  1.3652854   1.35680568  1.35350919\n",
      "  1.34562886  1.31280124  1.22915041  1.22818351  1.2166487   1.21610427\n",
      "  1.19632399  1.189466    1.17719662  1.14934373  1.14559543  1.11949205\n",
      "  1.10238314  1.06671739  1.04187071  1.03164542  1.02937222  1.02469218\n",
      "  1.00059259  0.97318995  0.97223741  0.96988469  0.9641673   0.95173872\n",
      "  0.94543922  0.93992651  0.93631601  0.9353205   0.92623645  0.92149317\n",
      "  0.91036212  0.89939797  0.88565809  0.8600651   0.85796469  0.84637845\n",
      "  0.83733004  0.83040464  0.82955885  0.82606184  0.82579976  0.82267743\n",
      "  0.8154639   0.81347334  0.80267888  0.80201232  0.79891717  0.79082859\n",
      "  0.7765857   0.77487582  0.74786758  0.74699199  0.74170196  0.74108636\n",
      "  0.72523451  0.72086298  0.7155484   0.71360904]\n"
     ]
    }
   ],
   "source": [
    "loss_index = np.argsort(loss_ensemble)\n",
    "print('BEST100:  ', loss_index[:30], loss_ensemble[loss_index[:30]])\n",
    "print('WORST100: ', loss_index[::-1][:100], loss_ensemble[loss_index[::-1][:100]])"
   ]
  },
  {
   "cell_type": "code",
   "execution_count": null,
   "metadata": {
    "collapsed": false
   },
   "outputs": [],
   "source": [
    ""
   ]
  },
  {
   "cell_type": "code",
   "execution_count": 89,
   "metadata": {
    "collapsed": true
   },
   "outputs": [],
   "source": [
    "def show_images(imgs):\n",
    "    num_imgs = len(imgs)\n",
    "    fig, axs = plt.subplots(nrows=1, ncols=num_imgs)\n",
    "    # plt.figure(figsize=(1.5, 1.5))\n",
    "    plt.axis('off')\n",
    "    #if img.ndim == 3:\n",
    "    #    img = img[0, :, :]\n",
    "    print('imgs shape', imgs.shape)\n",
    "    for i in range(num_imgs):\n",
    "        axs[i].imshow(imgs[i, 0, :, :], cmap=plt.cm.binary)           \n",
    "        axs[i].axis('off')\n",
    "    plt.show()"
   ]
  },
  {
   "cell_type": "code",
   "execution_count": 91,
   "metadata": {
    "collapsed": false
   },
   "outputs": [
    {
     "name": "stdout",
     "output_type": "stream",
     "text": [
      "label  [4 4 3 3 9 7 8 4 1 9]\n",
      "predict  [7 9 9 5 4 1 8 9 1 9]\n",
      "imgs shape (10, 1, 28, 28)\n"
     ]
    },
    {
     "data": {
      "image/png": "[encoded data removed]",
      "text/plain": [
       "<matplotlib.figure.Figure at 0x2ab0c62dd940>"
      ]
     },
     "metadata": {},
     "output_type": "display_data"
    }
   ],
   "source": [
    "worst_index = loss_index[::-1][:10]\n",
    "print('label ', train_y[worst_index])\n",
    "print('predict ', np.argmax(predict_ensemble, axis=1)[worst_index])\n",
    "show_images(train_imgs[worst_index])\n",
    "\n",
    "#for i in loss_index[::-1][:10]:\n",
    "#    print('label ', train_y[i])\n",
    "#    show_images(train_imgs[])"
   ]
  },
  {
   "cell_type": "markdown",
   "metadata": {},
   "source": [
    "What do you think of these images & labels (answer)?\n",
    "\n",
    "The first image really looks like 7 (and CNN model predict it as 7), but the label is 4.\n",
    "This is most probably the case that \"labelling is wrong\", and the trained CNN model answer is quite reasonable.\n",
    "\n",
    "These confusing data is included in the dataset and that is why it is difficult or impossible to achieve 100 % accuracy."
   ]
  },
  {
   "cell_type": "code",
   "execution_count": null,
   "metadata": {
    "collapsed": true
   },
   "outputs": [],
   "source": [
    ""
   ]
  }
 ],
 "metadata": {
  "anaconda-cloud": {},
  "kernelspec": {
   "display_name": "Python [conda root]",
   "language": "python",
   "name": "conda-root-py"
  },
  "language_info": {
   "codemirror_mode": {
    "name": "ipython",
    "version": 3.0
   },
   "file_extension": ".py",
   "mimetype": "text/x-python",
   "name": "python",
   "nbconvert_exporter": "python",
   "pygments_lexer": "ipython3",
   "version": "3.5.2"
  },
  "widgets": {
   "state": {
    "006cabe51a2b4329818dd0ece816991f": {
     "views": [
      {
       "cell_index": 31.0
      }
     ]
    },
    "18170041285649418703000e7d39cf5a": {
     "views": [
      {
       "cell_index": 31.0
      }
     ]
    },
    "289fe67b25104e2b9cca19712b363328": {
     "views": [
      {
       "cell_index": 31.0
      }
     ]
    },
    "2adc54b180ad4163a0ca046b79566286": {
     "views": [
      {
       "cell_index": 31.0
      }
     ]
    },
    "2d3b8ee4bb7f4e9480372ac82f3cd2f2": {
     "views": [
      {
       "cell_index": 31.0
      }
     ]
    },
    "34c902f8d21b499a871bea2b8ae54a03": {
     "views": [
      {
       "cell_index": 31.0
      }
     ]
    },
    "52274d2d51984dda8df4eb3099093211": {
     "views": [
      {
       "cell_index": 31.0
      }
     ]
    },
    "82130659dd7748239e932b7ab3ffa9b9": {
     "views": [
      {
       "cell_index": 13.0
      }
     ]
    },
    "87641e89f34e48d199517c2dd42694a9": {
     "views": [
      {
       "cell_index": 31.0
      }
     ]
    },
    "8849e11e93984ab8bc28344665c6d169": {
     "views": [
      {
       "cell_index": 31.0
      }
     ]
    },
    "a03c633ff1904d758ea694a986d9a937": {
     "views": [
      {
       "cell_index": 31.0
      }
     ]
    },
    "c32932c9f6114309849d0ade2445e223": {
     "views": [
      {
       "cell_index": 13.0
      }
     ]
    },
    "d1ed10fc731449b4b48a5b617a591dc6": {
     "views": [
      {
       "cell_index": 13.0
      }
     ]
    },
    "d7163e941c304038af7e492059642124": {
     "views": [
      {
       "cell_index": 31.0
      }
     ]
    },
    "e1ab5b4a39ce44d6b971fa88c5239f96": {
     "views": [
      {
       "cell_index": 31.0
      }
     ]
    }
   },
   "version": "1.2.0"
  }
 },
 "nbformat": 4,
 "nbformat_minor": 0
}